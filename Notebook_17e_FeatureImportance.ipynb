{
 "cells": [
  {
   "cell_type": "markdown",
   "metadata": {},
   "source": [
    "# Feature Importance"
   ]
  },
  {
   "cell_type": "code",
   "execution_count": 7,
   "metadata": {
    "collapsed": true
   },
   "outputs": [],
   "source": [
    "import numpy as np\n",
    "import pandas as pd\n",
    "import matplotlib.pyplot as plt\n",
    "plt.style.use('seaborn')\n",
    "import seaborn as sn\n",
    "%matplotlib inline"
   ]
  },
  {
   "cell_type": "code",
   "execution_count": 8,
   "metadata": {
    "collapsed": true
   },
   "outputs": [],
   "source": [
    "from sklearn.model_selection import train_test_split\n",
    "\n",
    "from sklearn.metrics import classification_report, confusion_matrix\n",
    "import HelpfulFunctions as hp"
   ]
  },
  {
   "cell_type": "markdown",
   "metadata": {},
   "source": [
    "## Loading Data Wisconsin Breast Cancer Dataset"
   ]
  },
  {
   "cell_type": "code",
   "execution_count": 95,
   "metadata": {},
   "outputs": [],
   "source": [
    "from sklearn.datasets import load_breast_cancer\n",
    "breastCancerData = load_breast_cancer()\n",
    "X = pd.DataFrame(breastCancerData['data'],columns = breastCancerData['feature_names'])\n",
    "y = breastCancerData['target']"
   ]
  },
  {
   "cell_type": "code",
   "execution_count": 96,
   "metadata": {},
   "outputs": [],
   "source": [
    "feature_names = X.columns\n",
    "n_feats = len(feature_names)"
   ]
  },
  {
   "cell_type": "markdown",
   "metadata": {},
   "source": [
    "## Standardising the Data"
   ]
  },
  {
   "cell_type": "code",
   "execution_count": 81,
   "metadata": {},
   "outputs": [],
   "source": [
    "from sklearn.preprocessing import StandardScaler\n",
    "scaler = StandardScaler()\n",
    "scaler.fit(X)\n",
    "X_standardised = scaler.transform(X)"
   ]
  },
  {
   "cell_type": "code",
   "execution_count": 82,
   "metadata": {},
   "outputs": [],
   "source": [
    "X_train, X_test, y_train, y_test = train_test_split(X_standardised,y,test_size=0.3,random_state = 101)"
   ]
  },
  {
   "cell_type": "markdown",
   "metadata": {
    "scrolled": true
   },
   "source": [
    "## Fit Range of Models"
   ]
  },
  {
   "cell_type": "code",
   "execution_count": 83,
   "metadata": {},
   "outputs": [
    {
     "data": {
      "text/plain": [
       "LogisticRegression(C=1.0, class_weight=None, dual=False, fit_intercept=True,\n",
       "          intercept_scaling=1, max_iter=100, multi_class='warn',\n",
       "          n_jobs=None, penalty='l2', random_state=None, solver='lbfgs',\n",
       "          tol=0.0001, verbose=0, warm_start=False)"
      ]
     },
     "execution_count": 83,
     "metadata": {},
     "output_type": "execute_result"
    }
   ],
   "source": [
    "from sklearn.linear_model import LogisticRegression\n",
    "log_model = LogisticRegression(solver='lbfgs')\n",
    "log_model.fit(X_train,y_train)"
   ]
  },
  {
   "cell_type": "code",
   "execution_count": 84,
   "metadata": {},
   "outputs": [
    {
     "data": {
      "text/plain": [
       "KNeighborsClassifier(algorithm='auto', leaf_size=30, metric='minkowski',\n",
       "           metric_params=None, n_jobs=None, n_neighbors=5, p=2,\n",
       "           weights='uniform')"
      ]
     },
     "execution_count": 84,
     "metadata": {},
     "output_type": "execute_result"
    }
   ],
   "source": [
    "from sklearn.neighbors import KNeighborsClassifier\n",
    "knn_model = KNeighborsClassifier()\n",
    "knn_model.fit(X_train,y_train)"
   ]
  },
  {
   "cell_type": "code",
   "execution_count": 85,
   "metadata": {},
   "outputs": [
    {
     "data": {
      "text/plain": [
       "DecisionTreeClassifier(class_weight=None, criterion='gini', max_depth=None,\n",
       "            max_features=None, max_leaf_nodes=None,\n",
       "            min_impurity_decrease=0.0, min_impurity_split=None,\n",
       "            min_samples_leaf=1, min_samples_split=2,\n",
       "            min_weight_fraction_leaf=0.0, presort=False, random_state=None,\n",
       "            splitter='best')"
      ]
     },
     "execution_count": 85,
     "metadata": {},
     "output_type": "execute_result"
    }
   ],
   "source": [
    "from sklearn.tree import DecisionTreeClassifier\n",
    "tree_model = DecisionTreeClassifier()\n",
    "tree_model.fit(X_train,y_train)"
   ]
  },
  {
   "cell_type": "code",
   "execution_count": 86,
   "metadata": {},
   "outputs": [
    {
     "data": {
      "text/plain": [
       "GaussianNB(priors=None, var_smoothing=1e-09)"
      ]
     },
     "execution_count": 86,
     "metadata": {},
     "output_type": "execute_result"
    }
   ],
   "source": [
    "from sklearn.naive_bayes import GaussianNB\n",
    "bayes_model = GaussianNB()\n",
    "bayes_model.fit(X_train,y_train)"
   ]
  },
  {
   "cell_type": "code",
   "execution_count": 87,
   "metadata": {},
   "outputs": [
    {
     "data": {
      "text/plain": [
       "SVC(C=1.0, cache_size=200, class_weight=None, coef0=0.0,\n",
       "  decision_function_shape='ovr', degree=3, gamma='auto', kernel='rbf',\n",
       "  max_iter=-1, probability=False, random_state=None, shrinking=True,\n",
       "  tol=0.001, verbose=False)"
      ]
     },
     "execution_count": 87,
     "metadata": {},
     "output_type": "execute_result"
    }
   ],
   "source": [
    "from sklearn.svm import SVC\n",
    "svc_model = SVC(gamma = \"auto\")\n",
    "svc_model.fit(X_train,y_train)"
   ]
  },
  {
   "cell_type": "code",
   "execution_count": 88,
   "metadata": {},
   "outputs": [
    {
     "name": "stderr",
     "output_type": "stream",
     "text": [
      "C:\\Users\\Dominic\\Anaconda3\\lib\\site-packages\\sklearn\\neural_network\\multilayer_perceptron.py:562: ConvergenceWarning: Stochastic Optimizer: Maximum iterations (200) reached and the optimization hasn't converged yet.\n",
      "  % self.max_iter, ConvergenceWarning)\n"
     ]
    },
    {
     "data": {
      "text/plain": [
       "MLPClassifier(activation='relu', alpha=0.0001, batch_size='auto', beta_1=0.9,\n",
       "       beta_2=0.999, early_stopping=False, epsilon=1e-08,\n",
       "       hidden_layer_sizes=(100,), learning_rate='constant',\n",
       "       learning_rate_init=0.001, max_iter=200, momentum=0.9,\n",
       "       n_iter_no_change=10, nesterovs_momentum=True, power_t=0.5,\n",
       "       random_state=None, shuffle=True, solver='adam', tol=0.0001,\n",
       "       validation_fraction=0.1, verbose=False, warm_start=False)"
      ]
     },
     "execution_count": 88,
     "metadata": {},
     "output_type": "execute_result"
    }
   ],
   "source": [
    "from sklearn.neural_network import MLPClassifier\n",
    "mlp_model = MLPClassifier()\n",
    "mlp_model.fit(X_train,y_train)"
   ]
  },
  {
   "cell_type": "code",
   "execution_count": 89,
   "metadata": {},
   "outputs": [
    {
     "data": {
      "text/plain": [
       "RandomForestClassifier(bootstrap=True, class_weight=None, criterion='gini',\n",
       "            max_depth=None, max_features='auto', max_leaf_nodes=None,\n",
       "            min_impurity_decrease=0.0, min_impurity_split=None,\n",
       "            min_samples_leaf=1, min_samples_split=2,\n",
       "            min_weight_fraction_leaf=0.0, n_estimators=100, n_jobs=None,\n",
       "            oob_score=False, random_state=None, verbose=0,\n",
       "            warm_start=False)"
      ]
     },
     "execution_count": 89,
     "metadata": {},
     "output_type": "execute_result"
    }
   ],
   "source": [
    "from sklearn.ensemble import RandomForestClassifier\n",
    "rnd_model = RandomForestClassifier(n_estimators = 100)\n",
    "rnd_model.fit(X_train,y_train)"
   ]
  },
  {
   "cell_type": "markdown",
   "metadata": {},
   "source": [
    "## Prediction Accuracy"
   ]
  },
  {
   "cell_type": "code",
   "execution_count": 90,
   "metadata": {},
   "outputs": [],
   "source": [
    "model_list = [log_model,knn_model,tree_model,bayes_model,svc_model,mlp_model,rnd_model]"
   ]
  },
  {
   "cell_type": "code",
   "execution_count": 91,
   "metadata": {},
   "outputs": [
    {
     "name": "stdout",
     "output_type": "stream",
     "text": [
      "<class 'sklearn.linear_model.logistic.LogisticRegression'>\n",
      "Test Accuracy: 0.977\n",
      "<class 'sklearn.neighbors.classification.KNeighborsClassifier'>\n",
      "Test Accuracy: 0.953\n",
      "<class 'sklearn.tree.tree.DecisionTreeClassifier'>\n",
      "Test Accuracy: 0.912\n",
      "<class 'sklearn.naive_bayes.GaussianNB'>\n",
      "Test Accuracy: 0.918\n",
      "<class 'sklearn.svm.classes.SVC'>\n",
      "Test Accuracy: 0.977\n",
      "<class 'sklearn.neural_network.multilayer_perceptron.MLPClassifier'>\n",
      "Test Accuracy: 0.965\n",
      "<class 'sklearn.ensemble.forest.RandomForestClassifier'>\n",
      "Test Accuracy: 0.953\n"
     ]
    }
   ],
   "source": [
    "for model in model_list:\n",
    "    predictions = model.predict(X_test)\n",
    "    cm = confusion_matrix(y_test,predictions)\n",
    "    print(model.__class__)\n",
    "    print('Test Accuracy: %.3f' %model.score(X_test, y_test))"
   ]
  },
  {
   "cell_type": "markdown",
   "metadata": {},
   "source": [
    "## Feature Importance using Individual Features"
   ]
  },
  {
   "cell_type": "code",
   "execution_count": 138,
   "metadata": {},
   "outputs": [],
   "source": [
    "model_list = [log_model,knn_model,tree_model,bayes_model,svc_model,rnd_model]"
   ]
  },
  {
   "cell_type": "code",
   "execution_count": 139,
   "metadata": {},
   "outputs": [],
   "source": [
    "from sklearn.model_selection import cross_val_score"
   ]
  },
  {
   "cell_type": "code",
   "execution_count": 140,
   "metadata": {},
   "outputs": [],
   "source": [
    "import numpy"
   ]
  },
  {
   "cell_type": "code",
   "execution_count": 146,
   "metadata": {},
   "outputs": [
    {
     "name": "stdout",
     "output_type": "stream",
     "text": [
      "Feature  Accuracy\n",
      "----------------------------------------------------\n",
      "<class 'sklearn.linear_model.logistic.LogisticRegression'>\n",
      "0 : worst concave points 0.9198663853727144\n",
      "1 : worst area 0.9198023128613846\n",
      "2 : mean concave points 0.9173656040006251\n",
      "3 : worst perimeter 0.9173331770589155\n",
      "4 : worst radius 0.9172390217221441\n",
      "----------------------------------------------------\n",
      "<class 'sklearn.tree.tree.DecisionTreeClassifier'>\n",
      "0 : worst area 0.8849566338490389\n",
      "1 : worst radius 0.882172605094546\n",
      "2 : worst concave points 0.8798308329426474\n",
      "3 : worst perimeter 0.8596393967807469\n",
      "4 : mean perimeter 0.8545452414439755\n",
      "----------------------------------------------------\n",
      "<class 'sklearn.ensemble.forest.RandomForestClassifier'>\n",
      "0 : worst area 0.8849566338490389\n",
      "1 : worst concave points 0.8822999687451164\n",
      "2 : worst perimeter 0.8797984060009376\n",
      "3 : worst radius 0.8797042506641664\n",
      "4 : mean perimeter 0.8545452414439755\n",
      "----------------------------------------------------\n"
     ]
    }
   ],
   "source": [
    "for model in model_list:\n",
    "\n",
    "    print(\"----------------------------------------------------\")    \n",
    "    print(model.__class__)\n",
    "    scores_list = []\n",
    "\n",
    "    for i in range(n_feats):\n",
    "        X_one_feature = X_train[:, i].reshape(-1, 1)\n",
    "        scores = cross_val_score(model, X_one_feature, y_train, cv=5)\n",
    "        scores_mean = scores.mean()\n",
    "        scores_list.append(scores.mean())\n",
    "\n",
    "    sorted_indices = numpy.argsort(np.array(scores_list) * -1) # negate to have descending\n",
    "\n",
    "    for i in range(0,5): # top 5 features\n",
    "        index = sorted_indices[i]\n",
    "        print(i, \":\", feature_names[index], scores_list[index])\n",
    "    \n",
    "print(\"----------------------------------------------------\")"
   ]
  },
  {
   "cell_type": "markdown",
   "metadata": {},
   "source": [
    "## Feature Importance using Recursive Feature Elimination"
   ]
  },
  {
   "cell_type": "code",
   "execution_count": 142,
   "metadata": {},
   "outputs": [],
   "source": [
    "from sklearn.feature_selection import RFE"
   ]
  },
  {
   "cell_type": "code",
   "execution_count": 143,
   "metadata": {},
   "outputs": [],
   "source": [
    "# We cannot run this on all models\n",
    "model_list = [log_model,tree_model,rnd_model]"
   ]
  },
  {
   "cell_type": "code",
   "execution_count": 144,
   "metadata": {},
   "outputs": [
    {
     "name": "stdout",
     "output_type": "stream",
     "text": [
      "-------------------------------------------------\n",
      "<class 'sklearn.linear_model.logistic.LogisticRegression'>\n",
      "mean concave points\n",
      "worst radius\n",
      "worst texture\n",
      "worst area\n",
      "worst concave points\n",
      "-------------------------------------------------\n",
      "<class 'sklearn.tree.tree.DecisionTreeClassifier'>\n",
      "worst radius\n",
      "worst texture\n",
      "worst area\n",
      "worst concave points\n",
      "worst fractal dimension\n",
      "-------------------------------------------------\n",
      "<class 'sklearn.ensemble.forest.RandomForestClassifier'>\n",
      "mean concave points\n",
      "worst radius\n",
      "worst perimeter\n",
      "worst area\n",
      "worst concave points\n",
      "-------------------------------------------------\n"
     ]
    }
   ],
   "source": [
    "for model in model_list:\n",
    "    \n",
    "    print(\"-------------------------------------------------\")\n",
    "    \n",
    "    rfe = RFE(estimator=model, n_features_to_select=5)\n",
    "    \n",
    "    print(model.__class__)\n",
    "    rfe.fit(X_train, y_train)\n",
    "\n",
    "    for i in range(0,len(names)):\n",
    "        if rfe.support_[i] == True:\n",
    "            print(names[i])\n",
    "            \n",
    "print(\"-------------------------------------------------\")"
   ]
  },
  {
   "cell_type": "code",
   "execution_count": null,
   "metadata": {},
   "outputs": [],
   "source": []
  },
  {
   "cell_type": "code",
   "execution_count": null,
   "metadata": {},
   "outputs": [],
   "source": []
  }
 ],
 "metadata": {
  "kernelspec": {
   "display_name": "Python 3",
   "language": "python",
   "name": "python3"
  },
  "language_info": {
   "codemirror_mode": {
    "name": "ipython",
    "version": 3
   },
   "file_extension": ".py",
   "mimetype": "text/x-python",
   "name": "python",
   "nbconvert_exporter": "python",
   "pygments_lexer": "ipython3",
   "version": "3.6.7"
  }
 },
 "nbformat": 4,
 "nbformat_minor": 2
}
