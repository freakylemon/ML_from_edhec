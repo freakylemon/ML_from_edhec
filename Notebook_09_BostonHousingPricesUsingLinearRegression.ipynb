{
 "cells": [
  {
   "cell_type": "markdown",
   "metadata": {},
   "source": [
    "# Boston Housing Data using Linear Models"
   ]
  },
  {
   "cell_type": "markdown",
   "metadata": {
    "collapsed": true
   },
   "source": [
    "This case study uses real housing data to build a model that can predict house prices"
   ]
  },
  {
   "cell_type": "code",
   "execution_count": 1,
   "metadata": {},
   "outputs": [],
   "source": [
    "import numpy as np\n",
    "import matplotlib.pyplot as plt\n",
    "%matplotlib inline"
   ]
  },
  {
   "cell_type": "markdown",
   "metadata": {},
   "source": [
    "## Load the Data"
   ]
  },
  {
   "cell_type": "code",
   "execution_count": 2,
   "metadata": {},
   "outputs": [],
   "source": [
    "from sklearn.datasets import load_boston\n",
    "boston = load_boston()"
   ]
  },
  {
   "cell_type": "code",
   "execution_count": 3,
   "metadata": {},
   "outputs": [
    {
     "name": "stdout",
     "output_type": "stream",
     "text": [
      "dict_keys(['data', 'target', 'feature_names', 'DESCR', 'filename'])\n"
     ]
    }
   ],
   "source": [
    "print(boston.keys())"
   ]
  },
  {
   "cell_type": "code",
   "execution_count": 4,
   "metadata": {},
   "outputs": [
    {
     "name": "stdout",
     "output_type": "stream",
     "text": [
      ".. _boston_dataset:\n",
      "\n",
      "Boston house prices dataset\n",
      "---------------------------\n",
      "\n",
      "**Data Set Characteristics:**  \n",
      "\n",
      "    :Number of Instances: 506 \n",
      "\n",
      "    :Number of Attributes: 13 numeric/categorical predictive. Median Value (attribute 14) is usually the target.\n",
      "\n",
      "    :Attribute Information (in order):\n",
      "        - CRIM     per capita crime rate by town\n",
      "        - ZN       proportion of residential land zoned for lots over 25,000 sq.ft.\n",
      "        - INDUS    proportion of non-retail business acres per town\n",
      "        - CHAS     Charles River dummy variable (= 1 if tract bounds river; 0 otherwise)\n",
      "        - NOX      nitric oxides concentration (parts per 10 million)\n",
      "        - RM       average number of rooms per dwelling\n",
      "        - AGE      proportion of owner-occupied units built prior to 1940\n",
      "        - DIS      weighted distances to five Boston employment centres\n",
      "        - RAD      index of accessibility to radial highways\n",
      "        - TAX      full-value property-tax rate per $10,000\n",
      "        - PTRATIO  pupil-teacher ratio by town\n",
      "        - B        1000(Bk - 0.63)^2 where Bk is the proportion of blacks by town\n",
      "        - LSTAT    % lower status of the population\n",
      "        - MEDV     Median value of owner-occupied homes in $1000's\n",
      "\n",
      "    :Missing Attribute Values: None\n",
      "\n",
      "    :Creator: Harrison, D. and Rubinfeld, D.L.\n",
      "\n",
      "This is a copy of UCI ML housing dataset.\n",
      "https://archive.ics.uci.edu/ml/machine-learning-databases/housing/\n",
      "\n",
      "\n",
      "This dataset was taken from the StatLib library which is maintained at Carnegie Mellon University.\n",
      "\n",
      "The Boston house-price data of Harrison, D. and Rubinfeld, D.L. 'Hedonic\n",
      "prices and the demand for clean air', J. Environ. Economics & Management,\n",
      "vol.5, 81-102, 1978.   Used in Belsley, Kuh & Welsch, 'Regression diagnostics\n",
      "...', Wiley, 1980.   N.B. Various transformations are used in the table on\n",
      "pages 244-261 of the latter.\n",
      "\n",
      "The Boston house-price data has been used in many machine learning papers that address regression\n",
      "problems.   \n",
      "     \n",
      ".. topic:: References\n",
      "\n",
      "   - Belsley, Kuh & Welsch, 'Regression diagnostics: Identifying Influential Data and Sources of Collinearity', Wiley, 1980. 244-261.\n",
      "   - Quinlan,R. (1993). Combining Instance-Based and Model-Based Learning. In Proceedings on the Tenth International Conference of Machine Learning, 236-243, University of Massachusetts, Amherst. Morgan Kaufmann.\n",
      "\n"
     ]
    }
   ],
   "source": [
    "print(boston.DESCR)"
   ]
  },
  {
   "cell_type": "code",
   "execution_count": 5,
   "metadata": {},
   "outputs": [
    {
     "name": "stdout",
     "output_type": "stream",
     "text": [
      "(506, 13)\n"
     ]
    }
   ],
   "source": [
    "# Find out how many data rows and features we have\n",
    "print(boston.data.shape)"
   ]
  },
  {
   "cell_type": "code",
   "execution_count": 6,
   "metadata": {},
   "outputs": [
    {
     "name": "stdout",
     "output_type": "stream",
     "text": [
      "['CRIM' 'ZN' 'INDUS' 'CHAS' 'NOX' 'RM' 'AGE' 'DIS' 'RAD' 'TAX' 'PTRATIO'\n",
      " 'B' 'LSTAT']\n"
     ]
    }
   ],
   "source": [
    "# Get Feature names\n",
    "print(boston['feature_names'])"
   ]
  },
  {
   "cell_type": "markdown",
   "metadata": {
    "collapsed": true
   },
   "source": [
    "## Loading into Pandas"
   ]
  },
  {
   "cell_type": "code",
   "execution_count": 7,
   "metadata": {},
   "outputs": [],
   "source": [
    "# Load into a PANDAS data frame\n",
    "import pandas as pd \n",
    "df = pd.DataFrame(boston.data)"
   ]
  },
  {
   "cell_type": "code",
   "execution_count": 8,
   "metadata": {},
   "outputs": [
    {
     "data": {
      "text/html": [
       "<div>\n",
       "<style scoped>\n",
       "    .dataframe tbody tr th:only-of-type {\n",
       "        vertical-align: middle;\n",
       "    }\n",
       "\n",
       "    .dataframe tbody tr th {\n",
       "        vertical-align: top;\n",
       "    }\n",
       "\n",
       "    .dataframe thead th {\n",
       "        text-align: right;\n",
       "    }\n",
       "</style>\n",
       "<table border=\"1\" class=\"dataframe\">\n",
       "  <thead>\n",
       "    <tr style=\"text-align: right;\">\n",
       "      <th></th>\n",
       "      <th>0</th>\n",
       "      <th>1</th>\n",
       "      <th>2</th>\n",
       "      <th>3</th>\n",
       "      <th>4</th>\n",
       "      <th>5</th>\n",
       "      <th>6</th>\n",
       "      <th>7</th>\n",
       "      <th>8</th>\n",
       "      <th>9</th>\n",
       "      <th>10</th>\n",
       "      <th>11</th>\n",
       "      <th>12</th>\n",
       "    </tr>\n",
       "  </thead>\n",
       "  <tbody>\n",
       "    <tr>\n",
       "      <th>0</th>\n",
       "      <td>0.00632</td>\n",
       "      <td>18.0</td>\n",
       "      <td>2.31</td>\n",
       "      <td>0.0</td>\n",
       "      <td>0.538</td>\n",
       "      <td>6.575</td>\n",
       "      <td>65.2</td>\n",
       "      <td>4.0900</td>\n",
       "      <td>1.0</td>\n",
       "      <td>296.0</td>\n",
       "      <td>15.3</td>\n",
       "      <td>396.90</td>\n",
       "      <td>4.98</td>\n",
       "    </tr>\n",
       "    <tr>\n",
       "      <th>1</th>\n",
       "      <td>0.02731</td>\n",
       "      <td>0.0</td>\n",
       "      <td>7.07</td>\n",
       "      <td>0.0</td>\n",
       "      <td>0.469</td>\n",
       "      <td>6.421</td>\n",
       "      <td>78.9</td>\n",
       "      <td>4.9671</td>\n",
       "      <td>2.0</td>\n",
       "      <td>242.0</td>\n",
       "      <td>17.8</td>\n",
       "      <td>396.90</td>\n",
       "      <td>9.14</td>\n",
       "    </tr>\n",
       "    <tr>\n",
       "      <th>2</th>\n",
       "      <td>0.02729</td>\n",
       "      <td>0.0</td>\n",
       "      <td>7.07</td>\n",
       "      <td>0.0</td>\n",
       "      <td>0.469</td>\n",
       "      <td>7.185</td>\n",
       "      <td>61.1</td>\n",
       "      <td>4.9671</td>\n",
       "      <td>2.0</td>\n",
       "      <td>242.0</td>\n",
       "      <td>17.8</td>\n",
       "      <td>392.83</td>\n",
       "      <td>4.03</td>\n",
       "    </tr>\n",
       "    <tr>\n",
       "      <th>3</th>\n",
       "      <td>0.03237</td>\n",
       "      <td>0.0</td>\n",
       "      <td>2.18</td>\n",
       "      <td>0.0</td>\n",
       "      <td>0.458</td>\n",
       "      <td>6.998</td>\n",
       "      <td>45.8</td>\n",
       "      <td>6.0622</td>\n",
       "      <td>3.0</td>\n",
       "      <td>222.0</td>\n",
       "      <td>18.7</td>\n",
       "      <td>394.63</td>\n",
       "      <td>2.94</td>\n",
       "    </tr>\n",
       "    <tr>\n",
       "      <th>4</th>\n",
       "      <td>0.06905</td>\n",
       "      <td>0.0</td>\n",
       "      <td>2.18</td>\n",
       "      <td>0.0</td>\n",
       "      <td>0.458</td>\n",
       "      <td>7.147</td>\n",
       "      <td>54.2</td>\n",
       "      <td>6.0622</td>\n",
       "      <td>3.0</td>\n",
       "      <td>222.0</td>\n",
       "      <td>18.7</td>\n",
       "      <td>396.90</td>\n",
       "      <td>5.33</td>\n",
       "    </tr>\n",
       "  </tbody>\n",
       "</table>\n",
       "</div>"
      ],
      "text/plain": [
       "        0     1     2    3      4      5     6       7    8      9     10  \\\n",
       "0  0.00632  18.0  2.31  0.0  0.538  6.575  65.2  4.0900  1.0  296.0  15.3   \n",
       "1  0.02731   0.0  7.07  0.0  0.469  6.421  78.9  4.9671  2.0  242.0  17.8   \n",
       "2  0.02729   0.0  7.07  0.0  0.469  7.185  61.1  4.9671  2.0  242.0  17.8   \n",
       "3  0.03237   0.0  2.18  0.0  0.458  6.998  45.8  6.0622  3.0  222.0  18.7   \n",
       "4  0.06905   0.0  2.18  0.0  0.458  7.147  54.2  6.0622  3.0  222.0  18.7   \n",
       "\n",
       "       11    12  \n",
       "0  396.90  4.98  \n",
       "1  396.90  9.14  \n",
       "2  392.83  4.03  \n",
       "3  394.63  2.94  \n",
       "4  396.90  5.33  "
      ]
     },
     "execution_count": 8,
     "metadata": {},
     "output_type": "execute_result"
    }
   ],
   "source": [
    "df.head()"
   ]
  },
  {
   "cell_type": "code",
   "execution_count": null,
   "metadata": {},
   "outputs": [],
   "source": [
    "df.columns = "
   ]
  },
  {
   "cell_type": "code",
   "execution_count": 9,
   "metadata": {},
   "outputs": [],
   "source": [
    "# Replace column headers\n",
    "df.columns = ['crimRate','zoned','industry','riverside','nitOxide','avgRooms','houseAge','workDist','highways','tax','pupTeach',\n",
    " 'racial', 'socStat']"
   ]
  },
  {
   "cell_type": "code",
   "execution_count": 10,
   "metadata": {},
   "outputs": [],
   "source": [
    "df['price'] = boston.target"
   ]
  },
  {
   "cell_type": "code",
   "execution_count": 11,
   "metadata": {},
   "outputs": [
    {
     "data": {
      "text/html": [
       "<div>\n",
       "<style scoped>\n",
       "    .dataframe tbody tr th:only-of-type {\n",
       "        vertical-align: middle;\n",
       "    }\n",
       "\n",
       "    .dataframe tbody tr th {\n",
       "        vertical-align: top;\n",
       "    }\n",
       "\n",
       "    .dataframe thead th {\n",
       "        text-align: right;\n",
       "    }\n",
       "</style>\n",
       "<table border=\"1\" class=\"dataframe\">\n",
       "  <thead>\n",
       "    <tr style=\"text-align: right;\">\n",
       "      <th></th>\n",
       "      <th>crimRate</th>\n",
       "      <th>zoned</th>\n",
       "      <th>industry</th>\n",
       "      <th>riverside</th>\n",
       "      <th>nitOxide</th>\n",
       "      <th>avgRooms</th>\n",
       "      <th>houseAge</th>\n",
       "      <th>workDist</th>\n",
       "      <th>highways</th>\n",
       "      <th>tax</th>\n",
       "      <th>pupTeach</th>\n",
       "      <th>racial</th>\n",
       "      <th>socStat</th>\n",
       "      <th>price</th>\n",
       "    </tr>\n",
       "  </thead>\n",
       "  <tbody>\n",
       "    <tr>\n",
       "      <th>0</th>\n",
       "      <td>0.00632</td>\n",
       "      <td>18.0</td>\n",
       "      <td>2.31</td>\n",
       "      <td>0.0</td>\n",
       "      <td>0.538</td>\n",
       "      <td>6.575</td>\n",
       "      <td>65.2</td>\n",
       "      <td>4.0900</td>\n",
       "      <td>1.0</td>\n",
       "      <td>296.0</td>\n",
       "      <td>15.3</td>\n",
       "      <td>396.90</td>\n",
       "      <td>4.98</td>\n",
       "      <td>24.0</td>\n",
       "    </tr>\n",
       "    <tr>\n",
       "      <th>1</th>\n",
       "      <td>0.02731</td>\n",
       "      <td>0.0</td>\n",
       "      <td>7.07</td>\n",
       "      <td>0.0</td>\n",
       "      <td>0.469</td>\n",
       "      <td>6.421</td>\n",
       "      <td>78.9</td>\n",
       "      <td>4.9671</td>\n",
       "      <td>2.0</td>\n",
       "      <td>242.0</td>\n",
       "      <td>17.8</td>\n",
       "      <td>396.90</td>\n",
       "      <td>9.14</td>\n",
       "      <td>21.6</td>\n",
       "    </tr>\n",
       "    <tr>\n",
       "      <th>2</th>\n",
       "      <td>0.02729</td>\n",
       "      <td>0.0</td>\n",
       "      <td>7.07</td>\n",
       "      <td>0.0</td>\n",
       "      <td>0.469</td>\n",
       "      <td>7.185</td>\n",
       "      <td>61.1</td>\n",
       "      <td>4.9671</td>\n",
       "      <td>2.0</td>\n",
       "      <td>242.0</td>\n",
       "      <td>17.8</td>\n",
       "      <td>392.83</td>\n",
       "      <td>4.03</td>\n",
       "      <td>34.7</td>\n",
       "    </tr>\n",
       "    <tr>\n",
       "      <th>3</th>\n",
       "      <td>0.03237</td>\n",
       "      <td>0.0</td>\n",
       "      <td>2.18</td>\n",
       "      <td>0.0</td>\n",
       "      <td>0.458</td>\n",
       "      <td>6.998</td>\n",
       "      <td>45.8</td>\n",
       "      <td>6.0622</td>\n",
       "      <td>3.0</td>\n",
       "      <td>222.0</td>\n",
       "      <td>18.7</td>\n",
       "      <td>394.63</td>\n",
       "      <td>2.94</td>\n",
       "      <td>33.4</td>\n",
       "    </tr>\n",
       "    <tr>\n",
       "      <th>4</th>\n",
       "      <td>0.06905</td>\n",
       "      <td>0.0</td>\n",
       "      <td>2.18</td>\n",
       "      <td>0.0</td>\n",
       "      <td>0.458</td>\n",
       "      <td>7.147</td>\n",
       "      <td>54.2</td>\n",
       "      <td>6.0622</td>\n",
       "      <td>3.0</td>\n",
       "      <td>222.0</td>\n",
       "      <td>18.7</td>\n",
       "      <td>396.90</td>\n",
       "      <td>5.33</td>\n",
       "      <td>36.2</td>\n",
       "    </tr>\n",
       "  </tbody>\n",
       "</table>\n",
       "</div>"
      ],
      "text/plain": [
       "   crimRate  zoned  industry  riverside  nitOxide  avgRooms  houseAge  \\\n",
       "0   0.00632   18.0      2.31        0.0     0.538     6.575      65.2   \n",
       "1   0.02731    0.0      7.07        0.0     0.469     6.421      78.9   \n",
       "2   0.02729    0.0      7.07        0.0     0.469     7.185      61.1   \n",
       "3   0.03237    0.0      2.18        0.0     0.458     6.998      45.8   \n",
       "4   0.06905    0.0      2.18        0.0     0.458     7.147      54.2   \n",
       "\n",
       "   workDist  highways    tax  pupTeach  racial  socStat  price  \n",
       "0    4.0900       1.0  296.0      15.3  396.90     4.98   24.0  \n",
       "1    4.9671       2.0  242.0      17.8  396.90     9.14   21.6  \n",
       "2    4.9671       2.0  242.0      17.8  392.83     4.03   34.7  \n",
       "3    6.0622       3.0  222.0      18.7  394.63     2.94   33.4  \n",
       "4    6.0622       3.0  222.0      18.7  396.90     5.33   36.2  "
      ]
     },
     "execution_count": 11,
     "metadata": {},
     "output_type": "execute_result"
    }
   ],
   "source": [
    "df.head()"
   ]
  },
  {
   "cell_type": "code",
   "execution_count": null,
   "metadata": {},
   "outputs": [],
   "source": []
  },
  {
   "cell_type": "markdown",
   "metadata": {},
   "source": [
    "## Data Analysis and Visualisation"
   ]
  },
  {
   "cell_type": "code",
   "execution_count": 12,
   "metadata": {},
   "outputs": [
    {
     "data": {
      "image/png": "[encoded data removed]",
      "text/plain": [
       "<Figure size 576x432 with 1 Axes>"
      ]
     },
     "metadata": {
      "needs_background": "light"
     },
     "output_type": "display_data"
    }
   ],
   "source": [
    "# Let us look at what we have to predict \n",
    "plt.figure(figsize=(8, 6))\n",
    "plt.hist(df.price,bins=50);\n",
    "plt.xlabel('Price ($1000s)')\n",
    "plt.ylabel('Frequency');"
   ]
  },
  {
   "cell_type": "code",
   "execution_count": 13,
   "metadata": {},
   "outputs": [],
   "source": [
    "# A number of properties have a price of 50.0 - we drop these as they seem to be outliers\n",
    "\n",
    "df = df[df.price<49]"
   ]
  },
  {
   "cell_type": "code",
   "execution_count": 14,
   "metadata": {},
   "outputs": [
    {
     "data": {
      "text/plain": [
       "Text(0, 0.5, 'Frequency')"
      ]
     },
     "execution_count": 14,
     "metadata": {},
     "output_type": "execute_result"
    },
    {
     "data": {
      "image/png": "[encoded data removed]",
      "text/plain": [
       "<Figure size 576x432 with 1 Axes>"
      ]
     },
     "metadata": {
      "needs_background": "light"
     },
     "output_type": "display_data"
    }
   ],
   "source": [
    "# Let us look at what we have to predict \n",
    "plt.figure(figsize=(8, 6))\n",
    "plt.hist(df.price,bins=50);\n",
    "plt.xlabel('Price ($1000s)')\n",
    "plt.ylabel('Frequency')"
   ]
  },
  {
   "cell_type": "code",
   "execution_count": null,
   "metadata": {},
   "outputs": [],
   "source": [
    "df.info()\n",
    "#to see missing data "
   ]
  },
  {
   "cell_type": "code",
   "execution_count": 15,
   "metadata": {},
   "outputs": [
    {
     "data": {
      "text/html": [
       "<div>\n",
       "<style scoped>\n",
       "    .dataframe tbody tr th:only-of-type {\n",
       "        vertical-align: middle;\n",
       "    }\n",
       "\n",
       "    .dataframe tbody tr th {\n",
       "        vertical-align: top;\n",
       "    }\n",
       "\n",
       "    .dataframe thead th {\n",
       "        text-align: right;\n",
       "    }\n",
       "</style>\n",
       "<table border=\"1\" class=\"dataframe\">\n",
       "  <thead>\n",
       "    <tr style=\"text-align: right;\">\n",
       "      <th></th>\n",
       "      <th>crimRate</th>\n",
       "      <th>zoned</th>\n",
       "      <th>industry</th>\n",
       "      <th>riverside</th>\n",
       "      <th>nitOxide</th>\n",
       "      <th>avgRooms</th>\n",
       "      <th>houseAge</th>\n",
       "      <th>workDist</th>\n",
       "      <th>highways</th>\n",
       "      <th>tax</th>\n",
       "      <th>pupTeach</th>\n",
       "      <th>racial</th>\n",
       "      <th>socStat</th>\n",
       "      <th>price</th>\n",
       "    </tr>\n",
       "  </thead>\n",
       "  <tbody>\n",
       "    <tr>\n",
       "      <th>count</th>\n",
       "      <td>490.000000</td>\n",
       "      <td>490.000000</td>\n",
       "      <td>490.000000</td>\n",
       "      <td>490.000000</td>\n",
       "      <td>490.000000</td>\n",
       "      <td>490.000000</td>\n",
       "      <td>490.00000</td>\n",
       "      <td>490.000000</td>\n",
       "      <td>490.000000</td>\n",
       "      <td>490.000000</td>\n",
       "      <td>490.000000</td>\n",
       "      <td>490.000000</td>\n",
       "      <td>490.00000</td>\n",
       "      <td>490.000000</td>\n",
       "    </tr>\n",
       "    <tr>\n",
       "      <th>mean</th>\n",
       "      <td>3.643241</td>\n",
       "      <td>11.112245</td>\n",
       "      <td>11.113143</td>\n",
       "      <td>0.059184</td>\n",
       "      <td>0.554307</td>\n",
       "      <td>6.245471</td>\n",
       "      <td>68.27898</td>\n",
       "      <td>3.834519</td>\n",
       "      <td>9.514286</td>\n",
       "      <td>408.002041</td>\n",
       "      <td>18.520000</td>\n",
       "      <td>355.855449</td>\n",
       "      <td>12.92402</td>\n",
       "      <td>21.635918</td>\n",
       "    </tr>\n",
       "    <tr>\n",
       "      <th>std</th>\n",
       "      <td>8.722154</td>\n",
       "      <td>22.844626</td>\n",
       "      <td>6.821302</td>\n",
       "      <td>0.236209</td>\n",
       "      <td>0.116688</td>\n",
       "      <td>0.653147</td>\n",
       "      <td>28.16479</td>\n",
       "      <td>2.109948</td>\n",
       "      <td>8.691297</td>\n",
       "      <td>168.065190</td>\n",
       "      <td>2.110478</td>\n",
       "      <td>92.634273</td>\n",
       "      <td>7.08318</td>\n",
       "      <td>7.865301</td>\n",
       "    </tr>\n",
       "    <tr>\n",
       "      <th>min</th>\n",
       "      <td>0.006320</td>\n",
       "      <td>0.000000</td>\n",
       "      <td>0.740000</td>\n",
       "      <td>0.000000</td>\n",
       "      <td>0.385000</td>\n",
       "      <td>3.561000</td>\n",
       "      <td>2.90000</td>\n",
       "      <td>1.137000</td>\n",
       "      <td>1.000000</td>\n",
       "      <td>187.000000</td>\n",
       "      <td>12.600000</td>\n",
       "      <td>0.320000</td>\n",
       "      <td>1.98000</td>\n",
       "      <td>5.000000</td>\n",
       "    </tr>\n",
       "    <tr>\n",
       "      <th>25%</th>\n",
       "      <td>0.082045</td>\n",
       "      <td>0.000000</td>\n",
       "      <td>5.190000</td>\n",
       "      <td>0.000000</td>\n",
       "      <td>0.449000</td>\n",
       "      <td>5.881000</td>\n",
       "      <td>44.55000</td>\n",
       "      <td>2.111050</td>\n",
       "      <td>4.000000</td>\n",
       "      <td>280.250000</td>\n",
       "      <td>17.400000</td>\n",
       "      <td>375.912500</td>\n",
       "      <td>7.34750</td>\n",
       "      <td>16.700000</td>\n",
       "    </tr>\n",
       "    <tr>\n",
       "      <th>50%</th>\n",
       "      <td>0.247510</td>\n",
       "      <td>0.000000</td>\n",
       "      <td>9.690000</td>\n",
       "      <td>0.000000</td>\n",
       "      <td>0.538000</td>\n",
       "      <td>6.185000</td>\n",
       "      <td>76.80000</td>\n",
       "      <td>3.275900</td>\n",
       "      <td>5.000000</td>\n",
       "      <td>330.000000</td>\n",
       "      <td>19.100000</td>\n",
       "      <td>391.770000</td>\n",
       "      <td>11.67500</td>\n",
       "      <td>20.900000</td>\n",
       "    </tr>\n",
       "    <tr>\n",
       "      <th>75%</th>\n",
       "      <td>3.647423</td>\n",
       "      <td>12.500000</td>\n",
       "      <td>18.100000</td>\n",
       "      <td>0.000000</td>\n",
       "      <td>0.624000</td>\n",
       "      <td>6.578000</td>\n",
       "      <td>93.87500</td>\n",
       "      <td>5.214600</td>\n",
       "      <td>24.000000</td>\n",
       "      <td>666.000000</td>\n",
       "      <td>20.200000</td>\n",
       "      <td>396.322500</td>\n",
       "      <td>17.11750</td>\n",
       "      <td>24.675000</td>\n",
       "    </tr>\n",
       "    <tr>\n",
       "      <th>max</th>\n",
       "      <td>88.976200</td>\n",
       "      <td>100.000000</td>\n",
       "      <td>27.740000</td>\n",
       "      <td>1.000000</td>\n",
       "      <td>0.871000</td>\n",
       "      <td>8.780000</td>\n",
       "      <td>100.00000</td>\n",
       "      <td>12.126500</td>\n",
       "      <td>24.000000</td>\n",
       "      <td>711.000000</td>\n",
       "      <td>22.000000</td>\n",
       "      <td>396.900000</td>\n",
       "      <td>37.97000</td>\n",
       "      <td>48.800000</td>\n",
       "    </tr>\n",
       "  </tbody>\n",
       "</table>\n",
       "</div>"
      ],
      "text/plain": [
       "         crimRate       zoned    industry   riverside    nitOxide    avgRooms  \\\n",
       "count  490.000000  490.000000  490.000000  490.000000  490.000000  490.000000   \n",
       "mean     3.643241   11.112245   11.113143    0.059184    0.554307    6.245471   \n",
       "std      8.722154   22.844626    6.821302    0.236209    0.116688    0.653147   \n",
       "min      0.006320    0.000000    0.740000    0.000000    0.385000    3.561000   \n",
       "25%      0.082045    0.000000    5.190000    0.000000    0.449000    5.881000   \n",
       "50%      0.247510    0.000000    9.690000    0.000000    0.538000    6.185000   \n",
       "75%      3.647423   12.500000   18.100000    0.000000    0.624000    6.578000   \n",
       "max     88.976200  100.000000   27.740000    1.000000    0.871000    8.780000   \n",
       "\n",
       "        houseAge    workDist    highways         tax    pupTeach      racial  \\\n",
       "count  490.00000  490.000000  490.000000  490.000000  490.000000  490.000000   \n",
       "mean    68.27898    3.834519    9.514286  408.002041   18.520000  355.855449   \n",
       "std     28.16479    2.109948    8.691297  168.065190    2.110478   92.634273   \n",
       "min      2.90000    1.137000    1.000000  187.000000   12.600000    0.320000   \n",
       "25%     44.55000    2.111050    4.000000  280.250000   17.400000  375.912500   \n",
       "50%     76.80000    3.275900    5.000000  330.000000   19.100000  391.770000   \n",
       "75%     93.87500    5.214600   24.000000  666.000000   20.200000  396.322500   \n",
       "max    100.00000   12.126500   24.000000  711.000000   22.000000  396.900000   \n",
       "\n",
       "         socStat       price  \n",
       "count  490.00000  490.000000  \n",
       "mean    12.92402   21.635918  \n",
       "std      7.08318    7.865301  \n",
       "min      1.98000    5.000000  \n",
       "25%      7.34750   16.700000  \n",
       "50%     11.67500   20.900000  \n",
       "75%     17.11750   24.675000  \n",
       "max     37.97000   48.800000  "
      ]
     },
     "execution_count": 15,
     "metadata": {},
     "output_type": "execute_result"
    }
   ],
   "source": [
    "# Get a description of the features\n",
    "df.describe()"
   ]
  },
  {
   "cell_type": "code",
   "execution_count": 16,
   "metadata": {},
   "outputs": [],
   "source": [
    "prices = df['price']"
   ]
  },
  {
   "cell_type": "code",
   "execution_count": 17,
   "metadata": {},
   "outputs": [],
   "source": [
    "def plotFeatureName(featureName):\n",
    "    plt.figure(figsize=(8,6))\n",
    "    plt.scatter(df[featureName], prices)  \n",
    "    plt.title(featureName)\n",
    "    plt.xlabel(featureName)\n",
    "    plt.ylabel('price')"
   ]
  },
  {
   "cell_type": "code",
   "execution_count": 18,
   "metadata": {},
   "outputs": [
    {
     "data": {
      "image/png": "[encoded data removed]",
      "text/plain": [
       "<Figure size 576x432 with 1 Axes>"
      ]
     },
     "metadata": {
      "needs_background": "light"
     },
     "output_type": "display_data"
    }
   ],
   "source": [
    "plotFeatureName('crimRate')"
   ]
  },
  {
   "cell_type": "code",
   "execution_count": 19,
   "metadata": {},
   "outputs": [
    {
     "data": {
      "image/png": "[encoded data removed]",
      "text/plain": [
       "<Figure size 576x432 with 1 Axes>"
      ]
     },
     "metadata": {
      "needs_background": "light"
     },
     "output_type": "display_data"
    }
   ],
   "source": [
    "plotFeatureName('avgRooms')"
   ]
  },
  {
   "cell_type": "code",
   "execution_count": 20,
   "metadata": {},
   "outputs": [
    {
     "data": {
      "image/png": "[encoded data removed]",
      "text/plain": [
       "<Figure size 576x432 with 1 Axes>"
      ]
     },
     "metadata": {
      "needs_background": "light"
     },
     "output_type": "display_data"
    }
   ],
   "source": [
    "plotFeatureName('houseAge')"
   ]
  },
  {
   "cell_type": "code",
   "execution_count": 21,
   "metadata": {},
   "outputs": [
    {
     "data": {
      "image/png": "[encoded data removed]",
      "text/plain": [
       "<Figure size 576x432 with 1 Axes>"
      ]
     },
     "metadata": {
      "needs_background": "light"
     },
     "output_type": "display_data"
    }
   ],
   "source": [
    "plotFeatureName('workDist')"
   ]
  },
  {
   "cell_type": "code",
   "execution_count": 22,
   "metadata": {},
   "outputs": [
    {
     "data": {
      "image/png": "[encoded data removed]",
      "text/plain": [
       "<Figure size 576x432 with 1 Axes>"
      ]
     },
     "metadata": {
      "needs_background": "light"
     },
     "output_type": "display_data"
    }
   ],
   "source": [
    "plotFeatureName('pupTeach') #pupils teacher ratios."
   ]
  },
  {
   "cell_type": "code",
   "execution_count": 23,
   "metadata": {},
   "outputs": [
    {
     "data": {
      "image/png": "[encoded data removed]",
      "text/plain": [
       "<Figure size 576x432 with 1 Axes>"
      ]
     },
     "metadata": {
      "needs_background": "light"
     },
     "output_type": "display_data"
    }
   ],
   "source": [
    "plotFeatureName('socStat')\n",
    "#price/ social status: it seem a $1/x$ relationship"
   ]
  },
  {
   "cell_type": "code",
   "execution_count": 24,
   "metadata": {},
   "outputs": [],
   "source": [
    "#df.drop('highways',axis=1,inplace=True);\n",
    "#df.drop('zoned',axis=1,inplace=True);\n",
    "#df.drop('riverside',axis=1,inplace=True);\n",
    "#df.drop('racial',axis=1,inplace=True)"
   ]
  },
  {
   "cell_type": "code",
   "execution_count": 25,
   "metadata": {},
   "outputs": [
    {
     "data": {
      "image/png": "[encoded data removed]",
      "text/plain": [
       "<Figure size 1008x1008 with 16 Axes>"
      ]
     },
     "metadata": {
      "needs_background": "light"
     },
     "output_type": "display_data"
    }
   ],
   "source": [
    "# Get histograms\n",
    "df.hist(figsize=(14, 14));"
   ]
  },
  {
   "cell_type": "code",
   "execution_count": 26,
   "metadata": {},
   "outputs": [
    {
     "data": {
      "text/html": [
       "<div>\n",
       "<style scoped>\n",
       "    .dataframe tbody tr th:only-of-type {\n",
       "        vertical-align: middle;\n",
       "    }\n",
       "\n",
       "    .dataframe tbody tr th {\n",
       "        vertical-align: top;\n",
       "    }\n",
       "\n",
       "    .dataframe thead th {\n",
       "        text-align: right;\n",
       "    }\n",
       "</style>\n",
       "<table border=\"1\" class=\"dataframe\">\n",
       "  <thead>\n",
       "    <tr style=\"text-align: right;\">\n",
       "      <th></th>\n",
       "      <th>crimRate</th>\n",
       "      <th>zoned</th>\n",
       "      <th>industry</th>\n",
       "      <th>riverside</th>\n",
       "      <th>nitOxide</th>\n",
       "      <th>avgRooms</th>\n",
       "      <th>houseAge</th>\n",
       "      <th>workDist</th>\n",
       "      <th>highways</th>\n",
       "      <th>tax</th>\n",
       "      <th>pupTeach</th>\n",
       "      <th>racial</th>\n",
       "      <th>socStat</th>\n",
       "      <th>price</th>\n",
       "    </tr>\n",
       "  </thead>\n",
       "  <tbody>\n",
       "    <tr>\n",
       "      <th>crimRate</th>\n",
       "      <td>1.000000</td>\n",
       "      <td>-0.199075</td>\n",
       "      <td>0.408053</td>\n",
       "      <td>-0.064210</td>\n",
       "      <td>0.420476</td>\n",
       "      <td>-0.219307</td>\n",
       "      <td>0.353751</td>\n",
       "      <td>-0.382231</td>\n",
       "      <td>0.627434</td>\n",
       "      <td>0.583711</td>\n",
       "      <td>0.287079</td>\n",
       "      <td>-0.384460</td>\n",
       "      <td>0.461755</td>\n",
       "      <td>-0.450115</td>\n",
       "    </tr>\n",
       "    <tr>\n",
       "      <th>zoned</th>\n",
       "      <td>-0.199075</td>\n",
       "      <td>1.000000</td>\n",
       "      <td>-0.527121</td>\n",
       "      <td>-0.053911</td>\n",
       "      <td>-0.512137</td>\n",
       "      <td>0.310506</td>\n",
       "      <td>-0.563184</td>\n",
       "      <td>0.673227</td>\n",
       "      <td>-0.307726</td>\n",
       "      <td>-0.302897</td>\n",
       "      <td>-0.381815</td>\n",
       "      <td>0.176117</td>\n",
       "      <td>-0.422090</td>\n",
       "      <td>0.404608</td>\n",
       "    </tr>\n",
       "    <tr>\n",
       "      <th>industry</th>\n",
       "      <td>0.408053</td>\n",
       "      <td>-0.527121</td>\n",
       "      <td>1.000000</td>\n",
       "      <td>0.035815</td>\n",
       "      <td>0.765155</td>\n",
       "      <td>-0.412413</td>\n",
       "      <td>0.637970</td>\n",
       "      <td>-0.710284</td>\n",
       "      <td>0.596124</td>\n",
       "      <td>0.717678</td>\n",
       "      <td>0.387656</td>\n",
       "      <td>-0.363394</td>\n",
       "      <td>0.636527</td>\n",
       "      <td>-0.600005</td>\n",
       "    </tr>\n",
       "    <tr>\n",
       "      <th>riverside</th>\n",
       "      <td>-0.064210</td>\n",
       "      <td>-0.053911</td>\n",
       "      <td>0.035815</td>\n",
       "      <td>1.000000</td>\n",
       "      <td>0.085619</td>\n",
       "      <td>0.044979</td>\n",
       "      <td>0.071194</td>\n",
       "      <td>-0.077705</td>\n",
       "      <td>-0.032786</td>\n",
       "      <td>-0.067743</td>\n",
       "      <td>-0.116830</td>\n",
       "      <td>0.041707</td>\n",
       "      <td>-0.006486</td>\n",
       "      <td>0.074803</td>\n",
       "    </tr>\n",
       "    <tr>\n",
       "      <th>nitOxide</th>\n",
       "      <td>0.420476</td>\n",
       "      <td>-0.512137</td>\n",
       "      <td>0.765155</td>\n",
       "      <td>0.085619</td>\n",
       "      <td>1.000000</td>\n",
       "      <td>-0.322609</td>\n",
       "      <td>0.727671</td>\n",
       "      <td>-0.768122</td>\n",
       "      <td>0.612160</td>\n",
       "      <td>0.667380</td>\n",
       "      <td>0.188381</td>\n",
       "      <td>-0.383087</td>\n",
       "      <td>0.612444</td>\n",
       "      <td>-0.524451</td>\n",
       "    </tr>\n",
       "    <tr>\n",
       "      <th>avgRooms</th>\n",
       "      <td>-0.219307</td>\n",
       "      <td>0.310506</td>\n",
       "      <td>-0.412413</td>\n",
       "      <td>0.044979</td>\n",
       "      <td>-0.322609</td>\n",
       "      <td>1.000000</td>\n",
       "      <td>-0.268464</td>\n",
       "      <td>0.245789</td>\n",
       "      <td>-0.195768</td>\n",
       "      <td>-0.281955</td>\n",
       "      <td>-0.293299</td>\n",
       "      <td>0.119204</td>\n",
       "      <td>-0.610369</td>\n",
       "      <td>0.686634</td>\n",
       "    </tr>\n",
       "    <tr>\n",
       "      <th>houseAge</th>\n",
       "      <td>0.353751</td>\n",
       "      <td>-0.563184</td>\n",
       "      <td>0.637970</td>\n",
       "      <td>0.071194</td>\n",
       "      <td>0.727671</td>\n",
       "      <td>-0.268464</td>\n",
       "      <td>1.000000</td>\n",
       "      <td>-0.743043</td>\n",
       "      <td>0.451939</td>\n",
       "      <td>0.499682</td>\n",
       "      <td>0.268459</td>\n",
       "      <td>-0.279002</td>\n",
       "      <td>0.637879</td>\n",
       "      <td>-0.492915</td>\n",
       "    </tr>\n",
       "    <tr>\n",
       "      <th>workDist</th>\n",
       "      <td>-0.382231</td>\n",
       "      <td>0.673227</td>\n",
       "      <td>-0.710284</td>\n",
       "      <td>-0.077705</td>\n",
       "      <td>-0.768122</td>\n",
       "      <td>0.245789</td>\n",
       "      <td>-0.743043</td>\n",
       "      <td>1.000000</td>\n",
       "      <td>-0.491875</td>\n",
       "      <td>-0.532025</td>\n",
       "      <td>-0.246773</td>\n",
       "      <td>0.299426</td>\n",
       "      <td>-0.536493</td>\n",
       "      <td>0.368813</td>\n",
       "    </tr>\n",
       "    <tr>\n",
       "      <th>highways</th>\n",
       "      <td>0.627434</td>\n",
       "      <td>-0.307726</td>\n",
       "      <td>0.596124</td>\n",
       "      <td>-0.032786</td>\n",
       "      <td>0.612160</td>\n",
       "      <td>-0.195768</td>\n",
       "      <td>0.451939</td>\n",
       "      <td>-0.491875</td>\n",
       "      <td>1.000000</td>\n",
       "      <td>0.909000</td>\n",
       "      <td>0.456035</td>\n",
       "      <td>-0.451534</td>\n",
       "      <td>0.510192</td>\n",
       "      <td>-0.476296</td>\n",
       "    </tr>\n",
       "    <tr>\n",
       "      <th>tax</th>\n",
       "      <td>0.583711</td>\n",
       "      <td>-0.302897</td>\n",
       "      <td>0.717678</td>\n",
       "      <td>-0.067743</td>\n",
       "      <td>0.667380</td>\n",
       "      <td>-0.281955</td>\n",
       "      <td>0.499682</td>\n",
       "      <td>-0.532025</td>\n",
       "      <td>0.909000</td>\n",
       "      <td>1.000000</td>\n",
       "      <td>0.452252</td>\n",
       "      <td>-0.448211</td>\n",
       "      <td>0.566467</td>\n",
       "      <td>-0.572442</td>\n",
       "    </tr>\n",
       "    <tr>\n",
       "      <th>pupTeach</th>\n",
       "      <td>0.287079</td>\n",
       "      <td>-0.381815</td>\n",
       "      <td>0.387656</td>\n",
       "      <td>-0.116830</td>\n",
       "      <td>0.188381</td>\n",
       "      <td>-0.293299</td>\n",
       "      <td>0.268459</td>\n",
       "      <td>-0.246773</td>\n",
       "      <td>0.456035</td>\n",
       "      <td>0.452252</td>\n",
       "      <td>1.000000</td>\n",
       "      <td>-0.173636</td>\n",
       "      <td>0.358023</td>\n",
       "      <td>-0.518641</td>\n",
       "    </tr>\n",
       "    <tr>\n",
       "      <th>racial</th>\n",
       "      <td>-0.384460</td>\n",
       "      <td>0.176117</td>\n",
       "      <td>-0.363394</td>\n",
       "      <td>0.041707</td>\n",
       "      <td>-0.383087</td>\n",
       "      <td>0.119204</td>\n",
       "      <td>-0.279002</td>\n",
       "      <td>0.299426</td>\n",
       "      <td>-0.451534</td>\n",
       "      <td>-0.448211</td>\n",
       "      <td>-0.173636</td>\n",
       "      <td>1.000000</td>\n",
       "      <td>-0.364099</td>\n",
       "      <td>0.364928</td>\n",
       "    </tr>\n",
       "    <tr>\n",
       "      <th>socStat</th>\n",
       "      <td>0.461755</td>\n",
       "      <td>-0.422090</td>\n",
       "      <td>0.636527</td>\n",
       "      <td>-0.006486</td>\n",
       "      <td>0.612444</td>\n",
       "      <td>-0.610369</td>\n",
       "      <td>0.637879</td>\n",
       "      <td>-0.536493</td>\n",
       "      <td>0.510192</td>\n",
       "      <td>0.566467</td>\n",
       "      <td>0.358023</td>\n",
       "      <td>-0.364099</td>\n",
       "      <td>1.000000</td>\n",
       "      <td>-0.759837</td>\n",
       "    </tr>\n",
       "    <tr>\n",
       "      <th>price</th>\n",
       "      <td>-0.450115</td>\n",
       "      <td>0.404608</td>\n",
       "      <td>-0.600005</td>\n",
       "      <td>0.074803</td>\n",
       "      <td>-0.524451</td>\n",
       "      <td>0.686634</td>\n",
       "      <td>-0.492915</td>\n",
       "      <td>0.368813</td>\n",
       "      <td>-0.476296</td>\n",
       "      <td>-0.572442</td>\n",
       "      <td>-0.518641</td>\n",
       "      <td>0.364928</td>\n",
       "      <td>-0.759837</td>\n",
       "      <td>1.000000</td>\n",
       "    </tr>\n",
       "  </tbody>\n",
       "</table>\n",
       "</div>"
      ],
      "text/plain": [
       "           crimRate     zoned  industry  riverside  nitOxide  avgRooms  \\\n",
       "crimRate   1.000000 -0.199075  0.408053  -0.064210  0.420476 -0.219307   \n",
       "zoned     -0.199075  1.000000 -0.527121  -0.053911 -0.512137  0.310506   \n",
       "industry   0.408053 -0.527121  1.000000   0.035815  0.765155 -0.412413   \n",
       "riverside -0.064210 -0.053911  0.035815   1.000000  0.085619  0.044979   \n",
       "nitOxide   0.420476 -0.512137  0.765155   0.085619  1.000000 -0.322609   \n",
       "avgRooms  -0.219307  0.310506 -0.412413   0.044979 -0.322609  1.000000   \n",
       "houseAge   0.353751 -0.563184  0.637970   0.071194  0.727671 -0.268464   \n",
       "workDist  -0.382231  0.673227 -0.710284  -0.077705 -0.768122  0.245789   \n",
       "highways   0.627434 -0.307726  0.596124  -0.032786  0.612160 -0.195768   \n",
       "tax        0.583711 -0.302897  0.717678  -0.067743  0.667380 -0.281955   \n",
       "pupTeach   0.287079 -0.381815  0.387656  -0.116830  0.188381 -0.293299   \n",
       "racial    -0.384460  0.176117 -0.363394   0.041707 -0.383087  0.119204   \n",
       "socStat    0.461755 -0.422090  0.636527  -0.006486  0.612444 -0.610369   \n",
       "price     -0.450115  0.404608 -0.600005   0.074803 -0.524451  0.686634   \n",
       "\n",
       "           houseAge  workDist  highways       tax  pupTeach    racial  \\\n",
       "crimRate   0.353751 -0.382231  0.627434  0.583711  0.287079 -0.384460   \n",
       "zoned     -0.563184  0.673227 -0.307726 -0.302897 -0.381815  0.176117   \n",
       "industry   0.637970 -0.710284  0.596124  0.717678  0.387656 -0.363394   \n",
       "riverside  0.071194 -0.077705 -0.032786 -0.067743 -0.116830  0.041707   \n",
       "nitOxide   0.727671 -0.768122  0.612160  0.667380  0.188381 -0.383087   \n",
       "avgRooms  -0.268464  0.245789 -0.195768 -0.281955 -0.293299  0.119204   \n",
       "houseAge   1.000000 -0.743043  0.451939  0.499682  0.268459 -0.279002   \n",
       "workDist  -0.743043  1.000000 -0.491875 -0.532025 -0.246773  0.299426   \n",
       "highways   0.451939 -0.491875  1.000000  0.909000  0.456035 -0.451534   \n",
       "tax        0.499682 -0.532025  0.909000  1.000000  0.452252 -0.448211   \n",
       "pupTeach   0.268459 -0.246773  0.456035  0.452252  1.000000 -0.173636   \n",
       "racial    -0.279002  0.299426 -0.451534 -0.448211 -0.173636  1.000000   \n",
       "socStat    0.637879 -0.536493  0.510192  0.566467  0.358023 -0.364099   \n",
       "price     -0.492915  0.368813 -0.476296 -0.572442 -0.518641  0.364928   \n",
       "\n",
       "            socStat     price  \n",
       "crimRate   0.461755 -0.450115  \n",
       "zoned     -0.422090  0.404608  \n",
       "industry   0.636527 -0.600005  \n",
       "riverside -0.006486  0.074803  \n",
       "nitOxide   0.612444 -0.524451  \n",
       "avgRooms  -0.610369  0.686634  \n",
       "houseAge   0.637879 -0.492915  \n",
       "workDist  -0.536493  0.368813  \n",
       "highways   0.510192 -0.476296  \n",
       "tax        0.566467 -0.572442  \n",
       "pupTeach   0.358023 -0.518641  \n",
       "racial    -0.364099  0.364928  \n",
       "socStat    1.000000 -0.759837  \n",
       "price     -0.759837  1.000000  "
      ]
     },
     "execution_count": 26,
     "metadata": {},
     "output_type": "execute_result"
    }
   ],
   "source": [
    "# How does the correlation matrix look \n",
    "df.corr(method='pearson')\n",
    "#wei, the heat maps maybe."
   ]
  },
  {
   "cell_type": "markdown",
   "metadata": {},
   "source": [
    "# Building a Model"
   ]
  },
  {
   "cell_type": "code",
   "execution_count": 27,
   "metadata": {},
   "outputs": [],
   "source": [
    "# Let's start by looking at the data \n",
    "#matrix of features and labels.\n",
    "X = df"
   ]
  },
  {
   "cell_type": "code",
   "execution_count": 28,
   "metadata": {},
   "outputs": [],
   "source": [
    "y = X['price']\n",
    "#as label. rather than feature!"
   ]
  },
  {
   "cell_type": "code",
   "execution_count": 29,
   "metadata": {},
   "outputs": [],
   "source": [
    "# Can't have price as a feature !!!!!!!!!\n",
    "X = X.drop('price',axis=1)"
   ]
  },
  {
   "cell_type": "code",
   "execution_count": 30,
   "metadata": {},
   "outputs": [
    {
     "data": {
      "text/plain": [
       "Index(['crimRate', 'zoned', 'industry', 'riverside', 'nitOxide', 'avgRooms',\n",
       "       'houseAge', 'workDist', 'highways', 'tax', 'pupTeach', 'racial',\n",
       "       'socStat'],\n",
       "      dtype='object')"
      ]
     },
     "execution_count": 30,
     "metadata": {},
     "output_type": "execute_result"
    }
   ],
   "source": [
    "X.columns"
   ]
  },
  {
   "cell_type": "markdown",
   "metadata": {},
   "source": [
    "## Train Test Split"
   ]
  },
  {
   "cell_type": "code",
   "execution_count": 31,
   "metadata": {},
   "outputs": [
    {
     "name": "stdout",
     "output_type": "stream",
     "text": [
      "(328, 13)\n",
      "(162, 13)\n",
      "(328,)\n",
      "(162,)\n"
     ]
    }
   ],
   "source": [
    "from sklearn.model_selection import train_test_split\n",
    "X_train, X_test, y_train, y_test  = train_test_split(X, y, test_size=0.33, random_state = 999)\n",
    "\n",
    "print(X_train.shape)\n",
    "print(X_test.shape)\n",
    "print(y_train.shape)\n",
    "print(y_test.shape)"
   ]
  },
  {
   "cell_type": "code",
   "execution_count": 32,
   "metadata": {},
   "outputs": [],
   "source": [
    "# Load linear regression model\n",
    "from sklearn.linear_model import LinearRegression\n",
    "lm = LinearRegression()\n",
    "#no info btw brakets."
   ]
  },
  {
   "cell_type": "code",
   "execution_count": 33,
   "metadata": {},
   "outputs": [
    {
     "data": {
      "text/plain": [
       "LinearRegression(copy_X=True, fit_intercept=True, n_jobs=None,\n",
       "         normalize=False)"
      ]
     },
     "execution_count": 33,
     "metadata": {},
     "output_type": "execute_result"
    }
   ],
   "source": [
    "# Fit to the training data\n",
    "lm.fit(X_train, y_train)"
   ]
  },
  {
   "cell_type": "code",
   "execution_count": 34,
   "metadata": {},
   "outputs": [
    {
     "data": {
      "text/plain": [
       "array([-1.23901758e-01,  1.83111406e-02, -7.35776249e-02, -3.35068034e-01,\n",
       "       -1.51370357e+01,  3.73242162e+00, -1.70434385e-02, -1.38386942e+00,\n",
       "        2.54043560e-01, -1.22231753e-02, -9.41693829e-01,  9.49539556e-03,\n",
       "       -3.68618034e-01])"
      ]
     },
     "execution_count": 34,
     "metadata": {},
     "output_type": "execute_result"
    }
   ],
   "source": [
    "lm.coef_"
   ]
  },
  {
   "cell_type": "code",
   "execution_count": 35,
   "metadata": {},
   "outputs": [
    {
     "data": {
      "text/plain": [
       "35.601800803222034"
      ]
     },
     "execution_count": 35,
     "metadata": {},
     "output_type": "execute_result"
    }
   ],
   "source": [
    "lm.intercept_"
   ]
  },
  {
   "cell_type": "code",
   "execution_count": 36,
   "metadata": {},
   "outputs": [],
   "source": [
    "y_pred = lm.predict(X_test)\n",
    "#put model on the training set, in sample prediction."
   ]
  },
  {
   "cell_type": "code",
   "execution_count": 37,
   "metadata": {},
   "outputs": [
    {
     "data": {
      "text/plain": [
       "[<matplotlib.lines.Line2D at 0x19d2b687fd0>]"
      ]
     },
     "execution_count": 37,
     "metadata": {},
     "output_type": "execute_result"
    },
    {
     "data": {
      "image/png": "[encoded data removed]",
      "text/plain": [
       "<Figure size 432x432 with 1 Axes>"
      ]
     },
     "metadata": {
      "needs_background": "light"
     },
     "output_type": "display_data"
    }
   ],
   "source": [
    "plt.figure(figsize=(6,6))\n",
    "plt.scatter(y_test, y_pred)\n",
    "plt.xlabel(\"True Prices: $Y_i$ (1000s)\")\n",
    "plt.ylabel(\"Predicted prices: $\\hat{Y}_i$ (1000s)\")\n",
    "#label 用一个公式表示。可以用latex表示。\n",
    "plt.plot([0, 50], [0, 50], '--k')\n",
    "#how well predict the training set."
   ]
  },
  {
   "cell_type": "code",
   "execution_count": 38,
   "metadata": {},
   "outputs": [],
   "source": [
    "from sklearn.metrics import mean_squared_error\n",
    "from sklearn.metrics import r2_score"
   ]
  },
  {
   "cell_type": "code",
   "execution_count": 39,
   "metadata": {},
   "outputs": [
    {
     "name": "stdout",
     "output_type": "stream",
     "text": [
      "3.4666663685021675\n",
      "0.7911548017555062\n"
     ]
    }
   ],
   "source": [
    "# How well did it do on the training set\n",
    "y_pred = lm.predict(X_train)\n",
    "\n",
    "print(np.sqrt(mean_squared_error(y_train, y_pred)))\n",
    "print(r2_score(y_train, y_pred))\n",
    "#MSE,"
   ]
  },
  {
   "cell_type": "code",
   "execution_count": 40,
   "metadata": {},
   "outputs": [
    {
     "name": "stdout",
     "output_type": "stream",
     "text": [
      "4.260562144130201\n",
      "0.7406532891276101\n"
     ]
    }
   ],
   "source": [
    "# See how well it does on the test set\n",
    "y_pred = lm.predict(X_test)\n",
    "\n",
    "print(np.sqrt(mean_squared_error(y_test, y_pred)))\n",
    "print(r2_score(y_test, y_pred))"
   ]
  },
  {
   "cell_type": "markdown",
   "metadata": {},
   "source": [
    "## Another \"Mystery\" Model"
   ]
  },
  {
   "cell_type": "code",
   "execution_count": 41,
   "metadata": {
    "scrolled": true
   },
   "outputs": [],
   "source": [
    "from sklearn.ensemble import GradientBoostingRegressor"
   ]
  },
  {
   "cell_type": "code",
   "execution_count": 42,
   "metadata": {},
   "outputs": [],
   "source": [
    "clf = GradientBoostingRegressor()\n",
    "clf.fit(X_train, y_train)\n",
    "# not a linear model,  model just changed without touching the data.\n",
    "# existed data is perfect fit for new data.\n",
    "y_pred = clf.predict(X_test)"
   ]
  },
  {
   "cell_type": "code",
   "execution_count": 43,
   "metadata": {},
   "outputs": [
    {
     "data": {
      "text/plain": [
       "Text(0, 0.5, 'Predicted price ($1000s)')"
      ]
     },
     "execution_count": 43,
     "metadata": {},
     "output_type": "execute_result"
    },
    {
     "data": {
      "image/png": "[encoded data removed]",
      "text/plain": [
       "<Figure size 432x432 with 1 Axes>"
      ]
     },
     "metadata": {
      "needs_background": "light"
     },
     "output_type": "display_data"
    }
   ],
   "source": [
    "plt.figure(figsize=(6,6))\n",
    "plt.scatter(y_test, y_pred)\n",
    "plt.plot([0, 50], [0, 50], '--k')\n",
    "\n",
    "plt.axis('tight')\n",
    "\n",
    "plt.xlabel('True price ($1000s)')\n",
    "plt.ylabel('Predicted price ($1000s)')"
   ]
  },
  {
   "cell_type": "code",
   "execution_count": 44,
   "metadata": {},
   "outputs": [
    {
     "name": "stdout",
     "output_type": "stream",
     "text": [
      "1.2065257089198196\n",
      "0.9747027355495812\n"
     ]
    }
   ],
   "source": [
    "# How well did it do on the training set\n",
    "y_pred = clf.predict(X_train)\n",
    "\n",
    "print(np.sqrt(mean_squared_error(y_train, y_pred)))\n",
    "print(r2_score(y_train, y_pred))\n",
    "#model changed and mse, r2 lower with same data as used in previous model."
   ]
  },
  {
   "cell_type": "code",
   "execution_count": 45,
   "metadata": {},
   "outputs": [
    {
     "name": "stdout",
     "output_type": "stream",
     "text": [
      "2.7564710242434165\n",
      "0.8914440083074661\n"
     ]
    }
   ],
   "source": [
    "y_pred = clf.predict(X_test)\n",
    "#to avoid the overfitting!\n",
    "print(np.sqrt(mean_squared_error(y_test, y_pred)))\n",
    "print(r2_score(y_test, y_pred))"
   ]
  }
 ],
 "metadata": {
  "kernelspec": {
   "display_name": "Python 3",
   "language": "python",
   "name": "python3"
  },
  "language_info": {
   "codemirror_mode": {
    "name": "ipython",
    "version": 3
   },
   "file_extension": ".py",
   "mimetype": "text/x-python",
   "name": "python",
   "nbconvert_exporter": "python",
   "pygments_lexer": "ipython3",
   "version": "3.7.1"
  }
 },
 "nbformat": 4,
 "nbformat_minor": 2
}
