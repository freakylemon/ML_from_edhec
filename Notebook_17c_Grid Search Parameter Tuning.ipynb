{
 "cells": [
  {
   "cell_type": "markdown",
   "metadata": {},
   "source": [
    "# Grid Search Parameter Tuning and Pipeline"
   ]
  },
  {
   "cell_type": "code",
   "execution_count": 1,
   "metadata": {
    "scrolled": true
   },
   "outputs": [],
   "source": [
    "import numpy as np\n",
    "import pandas as pd\n",
    "import matplotlib.pyplot as plt\n",
    "plt.style.use('seaborn')\n",
    "import seaborn as sn\n",
    "%matplotlib inline"
   ]
  },
  {
   "cell_type": "code",
   "execution_count": 2,
   "metadata": {},
   "outputs": [],
   "source": [
    "from sklearn.model_selection import train_test_split\n",
    "from sklearn.svm import SVC\n",
    "from sklearn.metrics import classification_report, confusion_matrix\n",
    "import HelpfulFunctions as hp"
   ]
  },
  {
   "cell_type": "markdown",
   "metadata": {},
   "source": [
    "## Supervised Learning PCA: Wisconsin Breast Cancer Dataset"
   ]
  },
  {
   "cell_type": "code",
   "execution_count": 3,
   "metadata": {
    "scrolled": true
   },
   "outputs": [],
   "source": [
    "from sklearn.datasets import load_breast_cancer\n",
    "breastCancerData = load_breast_cancer()\n",
    "df = pd.DataFrame(breastCancerData['data'],columns = breastCancerData['feature_names'])\n",
    "y = breastCancerData['target']"
   ]
  },
  {
   "cell_type": "markdown",
   "metadata": {},
   "source": [
    "### Standardising the Data"
   ]
  },
  {
   "cell_type": "code",
   "execution_count": 4,
   "metadata": {
    "scrolled": true
   },
   "outputs": [],
   "source": [
    "from sklearn.preprocessing import StandardScaler"
   ]
  },
  {
   "cell_type": "code",
   "execution_count": 5,
   "metadata": {
    "scrolled": true
   },
   "outputs": [],
   "source": [
    "scaler = StandardScaler()\n",
    "scaler.fit(df)\n",
    "X = scaler.transform(df)"
   ]
  },
  {
   "cell_type": "code",
   "execution_count": 6,
   "metadata": {
    "scrolled": true
   },
   "outputs": [],
   "source": [
    "X_train, X_test, y_train, y_test = train_test_split(X,y,test_size=0.3,random_state = 101)"
   ]
  },
  {
   "cell_type": "code",
   "execution_count": 7,
   "metadata": {
    "scrolled": true
   },
   "outputs": [
    {
     "data": {
      "text/plain": [
       "SVC(C=1.0, cache_size=200, class_weight=None, coef0=0.0,\n",
       "  decision_function_shape='ovr', degree=3, gamma='auto', kernel='rbf',\n",
       "  max_iter=-1, probability=False, random_state=None, shrinking=True,\n",
       "  tol=0.001, verbose=False)"
      ]
     },
     "execution_count": 7,
     "metadata": {},
     "output_type": "execute_result"
    }
   ],
   "source": [
    "model = SVC(gamma = \"auto\")\n",
    "model.fit(X_train,y_train)"
   ]
  },
  {
   "cell_type": "code",
   "execution_count": 8,
   "metadata": {},
   "outputs": [
    {
     "name": "stdout",
     "output_type": "stream",
     "text": [
      "[[ 63   3]\n",
      " [  1 104]]\n"
     ]
    },
    {
     "data": {
      "text/plain": [
       "<Figure size 720x720 with 0 Axes>"
      ]
     },
     "metadata": {},
     "output_type": "display_data"
    },
    {
     "data": {
      "image/png": "[encoded data removed]",
      "text/plain": [
       "<Figure size 432x288 with 2 Axes>"
      ]
     },
     "metadata": {
      "needs_background": "light"
     },
     "output_type": "display_data"
    }
   ],
   "source": [
    "predictions = model.predict(X_test)\n",
    "cm = confusion_matrix(y_test,predictions)\n",
    "hp.print_cm(cm,['malignant','benign'],plt)"
   ]
  },
  {
   "cell_type": "markdown",
   "metadata": {},
   "source": [
    "## Using Grid Search"
   ]
  },
  {
   "cell_type": "code",
   "execution_count": 9,
   "metadata": {
    "scrolled": true
   },
   "outputs": [],
   "source": [
    "from sklearn.model_selection import GridSearchCV"
   ]
  },
  {
   "cell_type": "code",
   "execution_count": 10,
   "metadata": {
    "scrolled": true
   },
   "outputs": [],
   "source": [
    "parameters = {'C':[0.01,0.1,1,10], 'gamma':[0.0, 0.000001,0.0001,0.001], 'kernel':['linear','rbf','sigmoid']}"
   ]
  },
  {
   "cell_type": "code",
   "execution_count": 11,
   "metadata": {
    "scrolled": false
   },
   "outputs": [
    {
     "name": "stderr",
     "output_type": "stream",
     "text": [
      "C:\\Users\\Dominic\\Anaconda3\\lib\\site-packages\\sklearn\\model_selection\\_split.py:2053: FutureWarning: You should specify a value for 'cv' instead of relying on the default value. The default value will change from 3 to 5 in version 0.22.\n",
      "  warnings.warn(CV_WARNING, FutureWarning)\n",
      "[Parallel(n_jobs=1)]: Using backend SequentialBackend with 1 concurrent workers.\n",
      "[Parallel(n_jobs=1)]: Done   1 out of   1 | elapsed:    0.0s remaining:    0.0s\n"
     ]
    },
    {
     "name": "stdout",
     "output_type": "stream",
     "text": [
      "Fitting 3 folds for each of 48 candidates, totalling 144 fits\n",
      "[CV] C=0.01, gamma=0.0, kernel=linear ................................\n",
      "[CV] ................. C=0.01, gamma=0.0, kernel=linear, total=   0.0s\n",
      "[CV] C=0.01, gamma=0.0, kernel=linear ................................\n",
      "[CV] ................. C=0.01, gamma=0.0, kernel=linear, total=   0.0s\n",
      "[CV] C=0.01, gamma=0.0, kernel=linear ................................\n",
      "[CV] ................. C=0.01, gamma=0.0, kernel=linear, total=   0.0s\n",
      "[CV] C=0.01, gamma=0.0, kernel=rbf ...................................\n",
      "[CV] .................... C=0.01, gamma=0.0, kernel=rbf, total=   0.0s\n",
      "[CV] C=0.01, gamma=0.0, kernel=rbf ...................................\n",
      "[CV] .................... C=0.01, gamma=0.0, kernel=rbf, total=   0.0s\n",
      "[CV] C=0.01, gamma=0.0, kernel=rbf ...................................\n",
      "[CV] .................... C=0.01, gamma=0.0, kernel=rbf, total=   0.0s\n",
      "[CV] C=0.01, gamma=0.0, kernel=sigmoid ...............................\n",
      "[CV] ................ C=0.01, gamma=0.0, kernel=sigmoid, total=   0.0s\n",
      "[CV] C=0.01, gamma=0.0, kernel=sigmoid ...............................\n",
      "[CV] ................ C=0.01, gamma=0.0, kernel=sigmoid, total=   0.0s\n",
      "[CV] C=0.01, gamma=0.0, kernel=sigmoid ...............................\n",
      "[CV] ................ C=0.01, gamma=0.0, kernel=sigmoid, total=   0.0s\n",
      "[CV] C=0.01, gamma=1e-06, kernel=linear ..............................\n",
      "[CV] ............... C=0.01, gamma=1e-06, kernel=linear, total=   0.0s\n",
      "[CV] C=0.01, gamma=1e-06, kernel=linear ..............................\n",
      "[CV] ............... C=0.01, gamma=1e-06, kernel=linear, total=   0.0s\n",
      "[CV] C=0.01, gamma=1e-06, kernel=linear ..............................\n",
      "[CV] ............... C=0.01, gamma=1e-06, kernel=linear, total=   0.0s\n",
      "[CV] C=0.01, gamma=1e-06, kernel=rbf .................................\n",
      "[CV] .................. C=0.01, gamma=1e-06, kernel=rbf, total=   0.0s\n",
      "[CV] C=0.01, gamma=1e-06, kernel=rbf .................................\n",
      "[CV] .................. C=0.01, gamma=1e-06, kernel=rbf, total=   0.0s\n",
      "[CV] C=0.01, gamma=1e-06, kernel=rbf .................................\n",
      "[CV] .................. C=0.01, gamma=1e-06, kernel=rbf, total=   0.0s\n",
      "[CV] C=0.01, gamma=1e-06, kernel=sigmoid .............................\n",
      "[CV] .............. C=0.01, gamma=1e-06, kernel=sigmoid, total=   0.0s\n",
      "[CV] C=0.01, gamma=1e-06, kernel=sigmoid .............................\n",
      "[CV] .............. C=0.01, gamma=1e-06, kernel=sigmoid, total=   0.0s\n",
      "[CV] C=0.01, gamma=1e-06, kernel=sigmoid .............................\n",
      "[CV] .............. C=0.01, gamma=1e-06, kernel=sigmoid, total=   0.0s\n",
      "[CV] C=0.01, gamma=0.0001, kernel=linear .............................\n",
      "[CV] .............. C=0.01, gamma=0.0001, kernel=linear, total=   0.0s\n",
      "[CV] C=0.01, gamma=0.0001, kernel=linear .............................\n",
      "[CV] .............. C=0.01, gamma=0.0001, kernel=linear, total=   0.0s\n",
      "[CV] C=0.01, gamma=0.0001, kernel=linear .............................\n",
      "[CV] .............. C=0.01, gamma=0.0001, kernel=linear, total=   0.0s\n",
      "[CV] C=0.01, gamma=0.0001, kernel=rbf ................................\n",
      "[CV] ................. C=0.01, gamma=0.0001, kernel=rbf, total=   0.0s\n",
      "[CV] C=0.01, gamma=0.0001, kernel=rbf ................................\n",
      "[CV] ................. C=0.01, gamma=0.0001, kernel=rbf, total=   0.0s\n",
      "[CV] C=0.01, gamma=0.0001, kernel=rbf ................................\n",
      "[CV] ................. C=0.01, gamma=0.0001, kernel=rbf, total=   0.0s\n",
      "[CV] C=0.01, gamma=0.0001, kernel=sigmoid ............................\n",
      "[CV] ............. C=0.01, gamma=0.0001, kernel=sigmoid, total=   0.0s\n",
      "[CV] C=0.01, gamma=0.0001, kernel=sigmoid ............................\n",
      "[CV] ............. C=0.01, gamma=0.0001, kernel=sigmoid, total=   0.0s\n",
      "[CV] C=0.01, gamma=0.0001, kernel=sigmoid ............................\n",
      "[CV] ............. C=0.01, gamma=0.0001, kernel=sigmoid, total=   0.0s\n",
      "[CV] C=0.01, gamma=0.001, kernel=linear ..............................\n",
      "[CV] ............... C=0.01, gamma=0.001, kernel=linear, total=   0.0s\n",
      "[CV] C=0.01, gamma=0.001, kernel=linear ..............................\n",
      "[CV] ............... C=0.01, gamma=0.001, kernel=linear, total=   0.0s\n",
      "[CV] C=0.01, gamma=0.001, kernel=linear ..............................\n",
      "[CV] ............... C=0.01, gamma=0.001, kernel=linear, total=   0.0s\n",
      "[CV] C=0.01, gamma=0.001, kernel=rbf .................................\n",
      "[CV] .................. C=0.01, gamma=0.001, kernel=rbf, total=   0.0s\n",
      "[CV] C=0.01, gamma=0.001, kernel=rbf .................................\n",
      "[CV] .................. C=0.01, gamma=0.001, kernel=rbf, total=   0.0s\n",
      "[CV] C=0.01, gamma=0.001, kernel=rbf .................................\n",
      "[CV] .................. C=0.01, gamma=0.001, kernel=rbf, total=   0.0s\n",
      "[CV] C=0.01, gamma=0.001, kernel=sigmoid .............................\n",
      "[CV] .............. C=0.01, gamma=0.001, kernel=sigmoid, total=   0.0s\n",
      "[CV] C=0.01, gamma=0.001, kernel=sigmoid .............................\n",
      "[CV] .............. C=0.01, gamma=0.001, kernel=sigmoid, total=   0.0s\n",
      "[CV] C=0.01, gamma=0.001, kernel=sigmoid .............................\n",
      "[CV] .............. C=0.01, gamma=0.001, kernel=sigmoid, total=   0.0s\n",
      "[CV] C=0.1, gamma=0.0, kernel=linear .................................\n",
      "[CV] .................. C=0.1, gamma=0.0, kernel=linear, total=   0.0s\n",
      "[CV] C=0.1, gamma=0.0, kernel=linear .................................\n",
      "[CV] .................. C=0.1, gamma=0.0, kernel=linear, total=   0.0s\n",
      "[CV] C=0.1, gamma=0.0, kernel=linear .................................\n",
      "[CV] .................. C=0.1, gamma=0.0, kernel=linear, total=   0.0s\n",
      "[CV] C=0.1, gamma=0.0, kernel=rbf ....................................\n",
      "[CV] ..................... C=0.1, gamma=0.0, kernel=rbf, total=   0.0s\n",
      "[CV] C=0.1, gamma=0.0, kernel=rbf ....................................\n",
      "[CV] ..................... C=0.1, gamma=0.0, kernel=rbf, total=   0.0s\n",
      "[CV] C=0.1, gamma=0.0, kernel=rbf ....................................\n",
      "[CV] ..................... C=0.1, gamma=0.0, kernel=rbf, total=   0.0s\n",
      "[CV] C=0.1, gamma=0.0, kernel=sigmoid ................................\n",
      "[CV] ................. C=0.1, gamma=0.0, kernel=sigmoid, total=   0.0s\n",
      "[CV] C=0.1, gamma=0.0, kernel=sigmoid ................................\n",
      "[CV] ................. C=0.1, gamma=0.0, kernel=sigmoid, total=   0.0s\n",
      "[CV] C=0.1, gamma=0.0, kernel=sigmoid ................................\n",
      "[CV] ................. C=0.1, gamma=0.0, kernel=sigmoid, total=   0.0s\n",
      "[CV] C=0.1, gamma=1e-06, kernel=linear ...............................\n",
      "[CV] ................ C=0.1, gamma=1e-06, kernel=linear, total=   0.0s\n",
      "[CV] C=0.1, gamma=1e-06, kernel=linear ...............................\n",
      "[CV] ................ C=0.1, gamma=1e-06, kernel=linear, total=   0.0s\n",
      "[CV] C=0.1, gamma=1e-06, kernel=linear ...............................\n",
      "[CV] ................ C=0.1, gamma=1e-06, kernel=linear, total=   0.0s\n",
      "[CV] C=0.1, gamma=1e-06, kernel=rbf ..................................\n",
      "[CV] ................... C=0.1, gamma=1e-06, kernel=rbf, total=   0.0s\n",
      "[CV] C=0.1, gamma=1e-06, kernel=rbf ..................................\n",
      "[CV] ................... C=0.1, gamma=1e-06, kernel=rbf, total=   0.0s\n",
      "[CV] C=0.1, gamma=1e-06, kernel=rbf ..................................\n",
      "[CV] ................... C=0.1, gamma=1e-06, kernel=rbf, total=   0.0s\n",
      "[CV] C=0.1, gamma=1e-06, kernel=sigmoid ..............................\n",
      "[CV] ............... C=0.1, gamma=1e-06, kernel=sigmoid, total=   0.0s\n",
      "[CV] C=0.1, gamma=1e-06, kernel=sigmoid ..............................\n",
      "[CV] ............... C=0.1, gamma=1e-06, kernel=sigmoid, total=   0.0s\n",
      "[CV] C=0.1, gamma=1e-06, kernel=sigmoid ..............................\n",
      "[CV] ............... C=0.1, gamma=1e-06, kernel=sigmoid, total=   0.0s\n",
      "[CV] C=0.1, gamma=0.0001, kernel=linear ..............................\n",
      "[CV] ............... C=0.1, gamma=0.0001, kernel=linear, total=   0.0s\n",
      "[CV] C=0.1, gamma=0.0001, kernel=linear ..............................\n",
      "[CV] ............... C=0.1, gamma=0.0001, kernel=linear, total=   0.0s\n",
      "[CV] C=0.1, gamma=0.0001, kernel=linear ..............................\n",
      "[CV] ............... C=0.1, gamma=0.0001, kernel=linear, total=   0.0s\n",
      "[CV] C=0.1, gamma=0.0001, kernel=rbf .................................\n",
      "[CV] .................. C=0.1, gamma=0.0001, kernel=rbf, total=   0.0s\n",
      "[CV] C=0.1, gamma=0.0001, kernel=rbf .................................\n",
      "[CV] .................. C=0.1, gamma=0.0001, kernel=rbf, total=   0.0s\n",
      "[CV] C=0.1, gamma=0.0001, kernel=rbf .................................\n",
      "[CV] .................. C=0.1, gamma=0.0001, kernel=rbf, total=   0.0s\n",
      "[CV] C=0.1, gamma=0.0001, kernel=sigmoid .............................\n",
      "[CV] .............. C=0.1, gamma=0.0001, kernel=sigmoid, total=   0.0s\n",
      "[CV] C=0.1, gamma=0.0001, kernel=sigmoid .............................\n",
      "[CV] .............. C=0.1, gamma=0.0001, kernel=sigmoid, total=   0.0s\n",
      "[CV] C=0.1, gamma=0.0001, kernel=sigmoid .............................\n",
      "[CV] .............. C=0.1, gamma=0.0001, kernel=sigmoid, total=   0.0s\n",
      "[CV] C=0.1, gamma=0.001, kernel=linear ...............................\n",
      "[CV] ................ C=0.1, gamma=0.001, kernel=linear, total=   0.0s\n",
      "[CV] C=0.1, gamma=0.001, kernel=linear ...............................\n",
      "[CV] ................ C=0.1, gamma=0.001, kernel=linear, total=   0.0s\n",
      "[CV] C=0.1, gamma=0.001, kernel=linear ...............................\n",
      "[CV] ................ C=0.1, gamma=0.001, kernel=linear, total=   0.0s\n",
      "[CV] C=0.1, gamma=0.001, kernel=rbf ..................................\n",
      "[CV] ................... C=0.1, gamma=0.001, kernel=rbf, total=   0.0s\n",
      "[CV] C=0.1, gamma=0.001, kernel=rbf ..................................\n"
     ]
    },
    {
     "name": "stdout",
     "output_type": "stream",
     "text": [
      "[CV] ................... C=0.1, gamma=0.001, kernel=rbf, total=   0.0s\n",
      "[CV] C=0.1, gamma=0.001, kernel=rbf ..................................\n",
      "[CV] ................... C=0.1, gamma=0.001, kernel=rbf, total=   0.0s\n",
      "[CV] C=0.1, gamma=0.001, kernel=sigmoid ..............................\n",
      "[CV] ............... C=0.1, gamma=0.001, kernel=sigmoid, total=   0.0s\n",
      "[CV] C=0.1, gamma=0.001, kernel=sigmoid ..............................\n",
      "[CV] ............... C=0.1, gamma=0.001, kernel=sigmoid, total=   0.0s\n",
      "[CV] C=0.1, gamma=0.001, kernel=sigmoid ..............................\n",
      "[CV] ............... C=0.1, gamma=0.001, kernel=sigmoid, total=   0.0s\n",
      "[CV] C=1, gamma=0.0, kernel=linear ...................................\n",
      "[CV] .................... C=1, gamma=0.0, kernel=linear, total=   0.0s\n",
      "[CV] C=1, gamma=0.0, kernel=linear ...................................\n",
      "[CV] .................... C=1, gamma=0.0, kernel=linear, total=   0.0s\n",
      "[CV] C=1, gamma=0.0, kernel=linear ...................................\n",
      "[CV] .................... C=1, gamma=0.0, kernel=linear, total=   0.0s\n",
      "[CV] C=1, gamma=0.0, kernel=rbf ......................................\n",
      "[CV] ....................... C=1, gamma=0.0, kernel=rbf, total=   0.0s\n",
      "[CV] C=1, gamma=0.0, kernel=rbf ......................................\n",
      "[CV] ....................... C=1, gamma=0.0, kernel=rbf, total=   0.0s\n",
      "[CV] C=1, gamma=0.0, kernel=rbf ......................................\n",
      "[CV] ....................... C=1, gamma=0.0, kernel=rbf, total=   0.0s\n",
      "[CV] C=1, gamma=0.0, kernel=sigmoid ..................................\n",
      "[CV] ................... C=1, gamma=0.0, kernel=sigmoid, total=   0.0s\n",
      "[CV] C=1, gamma=0.0, kernel=sigmoid ..................................\n",
      "[CV] ................... C=1, gamma=0.0, kernel=sigmoid, total=   0.0s\n",
      "[CV] C=1, gamma=0.0, kernel=sigmoid ..................................\n",
      "[CV] ................... C=1, gamma=0.0, kernel=sigmoid, total=   0.0s\n",
      "[CV] C=1, gamma=1e-06, kernel=linear .................................\n",
      "[CV] .................. C=1, gamma=1e-06, kernel=linear, total=   0.0s\n",
      "[CV] C=1, gamma=1e-06, kernel=linear .................................\n",
      "[CV] .................. C=1, gamma=1e-06, kernel=linear, total=   0.0s\n",
      "[CV] C=1, gamma=1e-06, kernel=linear .................................\n",
      "[CV] .................. C=1, gamma=1e-06, kernel=linear, total=   0.0s\n",
      "[CV] C=1, gamma=1e-06, kernel=rbf ....................................\n",
      "[CV] ..................... C=1, gamma=1e-06, kernel=rbf, total=   0.0s\n",
      "[CV] C=1, gamma=1e-06, kernel=rbf ....................................\n",
      "[CV] ..................... C=1, gamma=1e-06, kernel=rbf, total=   0.0s\n",
      "[CV] C=1, gamma=1e-06, kernel=rbf ....................................\n",
      "[CV] ..................... C=1, gamma=1e-06, kernel=rbf, total=   0.0s\n",
      "[CV] C=1, gamma=1e-06, kernel=sigmoid ................................\n",
      "[CV] ................. C=1, gamma=1e-06, kernel=sigmoid, total=   0.0s\n",
      "[CV] C=1, gamma=1e-06, kernel=sigmoid ................................\n",
      "[CV] ................. C=1, gamma=1e-06, kernel=sigmoid, total=   0.0s\n",
      "[CV] C=1, gamma=1e-06, kernel=sigmoid ................................\n",
      "[CV] ................. C=1, gamma=1e-06, kernel=sigmoid, total=   0.0s\n",
      "[CV] C=1, gamma=0.0001, kernel=linear ................................\n",
      "[CV] ................. C=1, gamma=0.0001, kernel=linear, total=   0.0s\n",
      "[CV] C=1, gamma=0.0001, kernel=linear ................................\n",
      "[CV] ................. C=1, gamma=0.0001, kernel=linear, total=   0.0s\n",
      "[CV] C=1, gamma=0.0001, kernel=linear ................................\n",
      "[CV] ................. C=1, gamma=0.0001, kernel=linear, total=   0.0s\n",
      "[CV] C=1, gamma=0.0001, kernel=rbf ...................................\n",
      "[CV] .................... C=1, gamma=0.0001, kernel=rbf, total=   0.0s\n",
      "[CV] C=1, gamma=0.0001, kernel=rbf ...................................\n",
      "[CV] .................... C=1, gamma=0.0001, kernel=rbf, total=   0.0s\n",
      "[CV] C=1, gamma=0.0001, kernel=rbf ...................................\n",
      "[CV] .................... C=1, gamma=0.0001, kernel=rbf, total=   0.0s\n",
      "[CV] C=1, gamma=0.0001, kernel=sigmoid ...............................\n",
      "[CV] ................ C=1, gamma=0.0001, kernel=sigmoid, total=   0.0s\n",
      "[CV] C=1, gamma=0.0001, kernel=sigmoid ...............................\n",
      "[CV] ................ C=1, gamma=0.0001, kernel=sigmoid, total=   0.0s\n",
      "[CV] C=1, gamma=0.0001, kernel=sigmoid ...............................\n",
      "[CV] ................ C=1, gamma=0.0001, kernel=sigmoid, total=   0.0s\n",
      "[CV] C=1, gamma=0.001, kernel=linear .................................\n",
      "[CV] .................. C=1, gamma=0.001, kernel=linear, total=   0.0s\n",
      "[CV] C=1, gamma=0.001, kernel=linear .................................\n",
      "[CV] .................. C=1, gamma=0.001, kernel=linear, total=   0.0s\n",
      "[CV] C=1, gamma=0.001, kernel=linear .................................\n",
      "[CV] .................. C=1, gamma=0.001, kernel=linear, total=   0.0s\n",
      "[CV] C=1, gamma=0.001, kernel=rbf ....................................\n",
      "[CV] ..................... C=1, gamma=0.001, kernel=rbf, total=   0.0s\n",
      "[CV] C=1, gamma=0.001, kernel=rbf ....................................\n",
      "[CV] ..................... C=1, gamma=0.001, kernel=rbf, total=   0.0s\n",
      "[CV] C=1, gamma=0.001, kernel=rbf ....................................\n",
      "[CV] ..................... C=1, gamma=0.001, kernel=rbf, total=   0.0s\n",
      "[CV] C=1, gamma=0.001, kernel=sigmoid ................................\n",
      "[CV] ................. C=1, gamma=0.001, kernel=sigmoid, total=   0.0s\n",
      "[CV] C=1, gamma=0.001, kernel=sigmoid ................................\n",
      "[CV] ................. C=1, gamma=0.001, kernel=sigmoid, total=   0.0s\n",
      "[CV] C=1, gamma=0.001, kernel=sigmoid ................................\n",
      "[CV] ................. C=1, gamma=0.001, kernel=sigmoid, total=   0.0s\n",
      "[CV] C=10, gamma=0.0, kernel=linear ..................................\n",
      "[CV] ................... C=10, gamma=0.0, kernel=linear, total=   0.0s\n",
      "[CV] C=10, gamma=0.0, kernel=linear ..................................\n",
      "[CV] ................... C=10, gamma=0.0, kernel=linear, total=   0.0s\n",
      "[CV] C=10, gamma=0.0, kernel=linear ..................................\n",
      "[CV] ................... C=10, gamma=0.0, kernel=linear, total=   0.0s\n",
      "[CV] C=10, gamma=0.0, kernel=rbf .....................................\n",
      "[CV] ...................... C=10, gamma=0.0, kernel=rbf, total=   0.0s\n",
      "[CV] C=10, gamma=0.0, kernel=rbf .....................................\n",
      "[CV] ...................... C=10, gamma=0.0, kernel=rbf, total=   0.0s\n",
      "[CV] C=10, gamma=0.0, kernel=rbf .....................................\n",
      "[CV] ...................... C=10, gamma=0.0, kernel=rbf, total=   0.0s\n",
      "[CV] C=10, gamma=0.0, kernel=sigmoid .................................\n",
      "[CV] .................. C=10, gamma=0.0, kernel=sigmoid, total=   0.0s\n",
      "[CV] C=10, gamma=0.0, kernel=sigmoid .................................\n",
      "[CV] .................. C=10, gamma=0.0, kernel=sigmoid, total=   0.0s\n",
      "[CV] C=10, gamma=0.0, kernel=sigmoid .................................\n",
      "[CV] .................. C=10, gamma=0.0, kernel=sigmoid, total=   0.0s\n",
      "[CV] C=10, gamma=1e-06, kernel=linear ................................\n",
      "[CV] ................. C=10, gamma=1e-06, kernel=linear, total=   0.0s\n",
      "[CV] C=10, gamma=1e-06, kernel=linear ................................\n",
      "[CV] ................. C=10, gamma=1e-06, kernel=linear, total=   0.0s\n",
      "[CV] C=10, gamma=1e-06, kernel=linear ................................\n",
      "[CV] ................. C=10, gamma=1e-06, kernel=linear, total=   0.0s\n",
      "[CV] C=10, gamma=1e-06, kernel=rbf ...................................\n",
      "[CV] .................... C=10, gamma=1e-06, kernel=rbf, total=   0.0s\n",
      "[CV] C=10, gamma=1e-06, kernel=rbf ...................................\n",
      "[CV] .................... C=10, gamma=1e-06, kernel=rbf, total=   0.0s\n",
      "[CV] C=10, gamma=1e-06, kernel=rbf ...................................\n",
      "[CV] .................... C=10, gamma=1e-06, kernel=rbf, total=   0.0s\n",
      "[CV] C=10, gamma=1e-06, kernel=sigmoid ...............................\n",
      "[CV] ................ C=10, gamma=1e-06, kernel=sigmoid, total=   0.0s\n",
      "[CV] C=10, gamma=1e-06, kernel=sigmoid ...............................\n",
      "[CV] ................ C=10, gamma=1e-06, kernel=sigmoid, total=   0.0s\n",
      "[CV] C=10, gamma=1e-06, kernel=sigmoid ...............................\n",
      "[CV] ................ C=10, gamma=1e-06, kernel=sigmoid, total=   0.0s\n",
      "[CV] C=10, gamma=0.0001, kernel=linear ...............................\n",
      "[CV] ................ C=10, gamma=0.0001, kernel=linear, total=   0.0s\n",
      "[CV] C=10, gamma=0.0001, kernel=linear ...............................\n",
      "[CV] ................ C=10, gamma=0.0001, kernel=linear, total=   0.0s\n",
      "[CV] C=10, gamma=0.0001, kernel=linear ...............................\n",
      "[CV] ................ C=10, gamma=0.0001, kernel=linear, total=   0.0s\n",
      "[CV] C=10, gamma=0.0001, kernel=rbf ..................................\n",
      "[CV] ................... C=10, gamma=0.0001, kernel=rbf, total=   0.0s\n",
      "[CV] C=10, gamma=0.0001, kernel=rbf ..................................\n",
      "[CV] ................... C=10, gamma=0.0001, kernel=rbf, total=   0.0s\n",
      "[CV] C=10, gamma=0.0001, kernel=rbf ..................................\n",
      "[CV] ................... C=10, gamma=0.0001, kernel=rbf, total=   0.0s\n",
      "[CV] C=10, gamma=0.0001, kernel=sigmoid ..............................\n",
      "[CV] ............... C=10, gamma=0.0001, kernel=sigmoid, total=   0.0s\n",
      "[CV] C=10, gamma=0.0001, kernel=sigmoid ..............................\n",
      "[CV] ............... C=10, gamma=0.0001, kernel=sigmoid, total=   0.0s\n",
      "[CV] C=10, gamma=0.0001, kernel=sigmoid ..............................\n"
     ]
    },
    {
     "name": "stdout",
     "output_type": "stream",
     "text": [
      "[CV] ............... C=10, gamma=0.0001, kernel=sigmoid, total=   0.0s\n",
      "[CV] C=10, gamma=0.001, kernel=linear ................................\n",
      "[CV] ................. C=10, gamma=0.001, kernel=linear, total=   0.0s\n",
      "[CV] C=10, gamma=0.001, kernel=linear ................................\n",
      "[CV] ................. C=10, gamma=0.001, kernel=linear, total=   0.0s\n",
      "[CV] C=10, gamma=0.001, kernel=linear ................................\n",
      "[CV] ................. C=10, gamma=0.001, kernel=linear, total=   0.0s\n",
      "[CV] C=10, gamma=0.001, kernel=rbf ...................................\n",
      "[CV] .................... C=10, gamma=0.001, kernel=rbf, total=   0.0s\n",
      "[CV] C=10, gamma=0.001, kernel=rbf ...................................\n",
      "[CV] .................... C=10, gamma=0.001, kernel=rbf, total=   0.0s\n",
      "[CV] C=10, gamma=0.001, kernel=rbf ...................................\n",
      "[CV] .................... C=10, gamma=0.001, kernel=rbf, total=   0.0s\n",
      "[CV] C=10, gamma=0.001, kernel=sigmoid ...............................\n",
      "[CV] ................ C=10, gamma=0.001, kernel=sigmoid, total=   0.0s\n",
      "[CV] C=10, gamma=0.001, kernel=sigmoid ...............................\n",
      "[CV] ................ C=10, gamma=0.001, kernel=sigmoid, total=   0.0s\n",
      "[CV] C=10, gamma=0.001, kernel=sigmoid ...............................\n",
      "[CV] ................ C=10, gamma=0.001, kernel=sigmoid, total=   0.0s\n"
     ]
    },
    {
     "name": "stderr",
     "output_type": "stream",
     "text": [
      "[Parallel(n_jobs=1)]: Done 144 out of 144 | elapsed:    1.5s finished\n"
     ]
    },
    {
     "data": {
      "text/plain": [
       "GridSearchCV(cv='warn', error_score='raise-deprecating',\n",
       "       estimator=SVC(C=1.0, cache_size=200, class_weight=None, coef0=0.0,\n",
       "  decision_function_shape='ovr', degree=3, gamma='auto_deprecated',\n",
       "  kernel='rbf', max_iter=-1, probability=True, random_state=None,\n",
       "  shrinking=True, tol=0.001, verbose=False),\n",
       "       fit_params=None, iid='warn', n_jobs=None,\n",
       "       param_grid={'C': [0.01, 0.1, 1, 10], 'gamma': [0.0, 1e-06, 0.0001, 0.001], 'kernel': ['linear', 'rbf', 'sigmoid']},\n",
       "       pre_dispatch='2*n_jobs', refit=True, return_train_score='warn',\n",
       "       scoring=None, verbose=2)"
      ]
     },
     "execution_count": 11,
     "metadata": {},
     "output_type": "execute_result"
    }
   ],
   "source": [
    "grid = GridSearchCV(SVC(probability = True), parameters, verbose=2) \n",
    "grid.fit(X_train,y_train)"
   ]
  },
  {
   "cell_type": "code",
   "execution_count": 12,
   "metadata": {
    "scrolled": true
   },
   "outputs": [
    {
     "data": {
      "text/plain": [
       "{'C': 0.1, 'gamma': 0.0, 'kernel': 'linear'}"
      ]
     },
     "execution_count": 12,
     "metadata": {},
     "output_type": "execute_result"
    }
   ],
   "source": [
    "grid.best_params_"
   ]
  },
  {
   "cell_type": "code",
   "execution_count": 13,
   "metadata": {
    "scrolled": true
   },
   "outputs": [
    {
     "data": {
      "text/plain": [
       "SVC(C=0.1, cache_size=200, class_weight=None, coef0=0.0,\n",
       "  decision_function_shape='ovr', degree=3, gamma=1e-05, kernel='linear',\n",
       "  max_iter=-1, probability=False, random_state=None, shrinking=True,\n",
       "  tol=0.001, verbose=False)"
      ]
     },
     "execution_count": 13,
     "metadata": {},
     "output_type": "execute_result"
    }
   ],
   "source": [
    "model = SVC(kernel='linear',gamma=1e-5,C=0.1)\n",
    "model.fit(X_train,y_train)"
   ]
  },
  {
   "cell_type": "code",
   "execution_count": 14,
   "metadata": {
    "scrolled": true
   },
   "outputs": [
    {
     "name": "stdout",
     "output_type": "stream",
     "text": [
      "[[ 62   4]\n",
      " [  0 105]]\n"
     ]
    },
    {
     "data": {
      "text/plain": [
       "<Figure size 720x720 with 0 Axes>"
      ]
     },
     "metadata": {},
     "output_type": "display_data"
    },
    {
     "data": {
      "image/png": "[encoded data removed]",
      "text/plain": [
       "<Figure size 432x288 with 2 Axes>"
      ]
     },
     "metadata": {
      "needs_background": "light"
     },
     "output_type": "display_data"
    }
   ],
   "source": [
    "predictions = model.predict(X_test)\n",
    "cm = confusion_matrix(y_test,predictions)\n",
    "hp.print_cm(cm,['malignant','benign'],plt)"
   ]
  },
  {
   "cell_type": "code",
   "execution_count": 15,
   "metadata": {
    "scrolled": true
   },
   "outputs": [
    {
     "name": "stdout",
     "output_type": "stream",
     "text": [
      "              precision    recall  f1-score   support\n",
      "\n",
      "           0       1.00      0.94      0.97        66\n",
      "           1       0.96      1.00      0.98       105\n",
      "\n",
      "   micro avg       0.98      0.98      0.98       171\n",
      "   macro avg       0.98      0.97      0.98       171\n",
      "weighted avg       0.98      0.98      0.98       171\n",
      "\n"
     ]
    }
   ],
   "source": [
    "print(classification_report(y_test,predictions))"
   ]
  },
  {
   "cell_type": "markdown",
   "metadata": {},
   "source": [
    "## Using a Pipeline"
   ]
  },
  {
   "cell_type": "code",
   "execution_count": 16,
   "metadata": {},
   "outputs": [],
   "source": [
    "from sklearn.pipeline import Pipeline\n",
    "from sklearn.decomposition import PCA\n",
    "from sklearn.linear_model import LogisticRegression"
   ]
  },
  {
   "cell_type": "code",
   "execution_count": 17,
   "metadata": {},
   "outputs": [],
   "source": [
    "pip_lr = Pipeline([('scl', StandardScaler()),('pca', PCA(n_components=2)),('clf', LogisticRegression(random_state=1, solver='lbfgs'))])"
   ]
  },
  {
   "cell_type": "code",
   "execution_count": 18,
   "metadata": {},
   "outputs": [
    {
     "data": {
      "text/plain": [
       "Pipeline(memory=None,\n",
       "     steps=[('scl', StandardScaler(copy=True, with_mean=True, with_std=True)), ('pca', PCA(copy=True, iterated_power='auto', n_components=2, random_state=None,\n",
       "  svd_solver='auto', tol=0.0, whiten=False)), ('clf', LogisticRegression(C=1.0, class_weight=None, dual=False, fit_intercept=True,\n",
       "          intercept_scaling=1, max_iter=100, multi_class='warn',\n",
       "          n_jobs=None, penalty='l2', random_state=1, solver='lbfgs',\n",
       "          tol=0.0001, verbose=0, warm_start=False))])"
      ]
     },
     "execution_count": 18,
     "metadata": {},
     "output_type": "execute_result"
    }
   ],
   "source": [
    "pip_lr.fit(X_train,y_train)"
   ]
  },
  {
   "cell_type": "code",
   "execution_count": 19,
   "metadata": {},
   "outputs": [
    {
     "name": "stdout",
     "output_type": "stream",
     "text": [
      "Test Accuracy: 0.953\n"
     ]
    }
   ],
   "source": [
    "print('Test Accuracy: %.3f' %pip_lr.score(X_test, y_test))"
   ]
  },
  {
   "cell_type": "code",
   "execution_count": null,
   "metadata": {
    "collapsed": true
   },
   "outputs": [],
   "source": []
  }
 ],
 "metadata": {
  "kernelspec": {
   "display_name": "Python 3",
   "language": "python",
   "name": "python3"
  },
  "language_info": {
   "codemirror_mode": {
    "name": "ipython",
    "version": 3
   },
   "file_extension": ".py",
   "mimetype": "text/x-python",
   "name": "python",
   "nbconvert_exporter": "python",
   "pygments_lexer": "ipython3",
   "version": "3.6.7"
  }
 },
 "nbformat": 4,
 "nbformat_minor": 2
}
